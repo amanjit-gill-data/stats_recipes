{
 "cells": [
  {
   "cell_type": "markdown",
   "id": "2921c772-4a42-4c7b-9f0e-eb4928495f9b",
   "metadata": {
    "tags": []
   },
   "source": [
    "## Sufficiency and Estimation ##"
   ]
  },
  {
   "cell_type": "code",
   "execution_count": 450,
   "id": "8693819e-4ebf-4dc5-a429-906176d4028e",
   "metadata": {},
   "outputs": [],
   "source": [
    "%reset -f\n",
    "\n",
    "from sympy import *\n",
    "from sympy.stats import *\n",
    "from sympy.functions.combinatorial.numbers import *"
   ]
  },
  {
   "cell_type": "code",
   "execution_count": 451,
   "id": "aefc306c-0733-4182-b7da-3cf3339b543e",
   "metadata": {},
   "outputs": [],
   "source": [
    "# Symbols\n",
    "\n",
    "theta = Symbol('theta')\n",
    "x = Symbol('x', positive=True)\n",
    "n = Symbol('n', positive=True)"
   ]
  },
  {
   "cell_type": "code",
   "execution_count": 452,
   "id": "c4450900-4add-40a3-bef7-11bed2b5e02c",
   "metadata": {},
   "outputs": [
    {
     "data": {
      "image/png": "[encoded data removed]",
      "text/latex": [
       "$\\displaystyle \\theta x^{\\theta - 1}$"
      ],
      "text/plain": [
       "   θ - 1\n",
       "θ⋅x     "
      ]
     },
     "execution_count": 452,
     "metadata": {},
     "output_type": "execute_result"
    }
   ],
   "source": [
    "# likelihood\n",
    "\n",
    "lhood = theta * x**(theta-1)\n",
    "lhood"
   ]
  },
  {
   "cell_type": "code",
   "execution_count": 453,
   "id": "1ca97aec-c540-465c-a208-7a05d73776a0",
   "metadata": {},
   "outputs": [
    {
     "data": {
      "image/png": "[encoded data removed]",
      "text/latex": [
       "$\\displaystyle \\left(\\theta - 1\\right) \\log{\\left(x \\right)} + \\log{\\left(\\theta \\right)}$"
      ],
      "text/plain": [
       "(θ - 1)⋅log(x) + log(θ)"
      ]
     },
     "execution_count": 453,
     "metadata": {},
     "output_type": "execute_result"
    }
   ],
   "source": [
    "# log likelihood\n",
    "\n",
    "logll = expand_log(log(lhood), force=True)\n",
    "logll"
   ]
  },
  {
   "cell_type": "code",
   "execution_count": null,
   "id": "5de3408b-4f05-4397-972a-c23929495124",
   "metadata": {},
   "outputs": [],
   "source": []
  },
  {
   "cell_type": "code",
   "execution_count": null,
   "id": "ebd11362-0835-469c-9afb-c48a295a53ae",
   "metadata": {},
   "outputs": [],
   "source": []
  },
  {
   "cell_type": "code",
   "execution_count": null,
   "id": "1decf210-775b-4122-94a1-0b7452e78914",
   "metadata": {},
   "outputs": [],
   "source": []
  },
  {
   "cell_type": "code",
   "execution_count": null,
   "id": "e1845717-13d8-4643-9de5-d08c1faf9923",
   "metadata": {},
   "outputs": [],
   "source": []
  },
  {
   "cell_type": "markdown",
   "id": "f768f7c0-c897-4985-a026-f7dcba9241bf",
   "metadata": {
    "jp-MarkdownHeadingCollapsed": true,
    "tags": []
   },
   "source": [
    "### CRLB - Cramer-Rao Lower Bound ###\n",
    "Includes log-likelihood and Fisher "
   ]
  },
  {
   "cell_type": "code",
   "execution_count": 454,
   "id": "7db48493-c934-412c-a60f-c28400b6b036",
   "metadata": {},
   "outputs": [],
   "source": [
    "%reset -f\n",
    "\n",
    "from sympy import *\n",
    "from sympy.stats import *\n",
    "from sympy.functions.combinatorial.numbers import *"
   ]
  },
  {
   "cell_type": "code",
   "execution_count": 455,
   "id": "e45f8770-a51f-4073-b6ac-94190c130dee",
   "metadata": {},
   "outputs": [],
   "source": [
    "# Symbols\n",
    "\n",
    "theta = Symbol('theta', positive=True)\n",
    "x = Symbol('x', positive=True)\n",
    "n = Symbol('n', positive=True)"
   ]
  },
  {
   "cell_type": "code",
   "execution_count": 456,
   "id": "5034fc3a-918a-4c49-a3a2-d01f873f1bd7",
   "metadata": {},
   "outputs": [
    {
     "data": {
      "image/png": "[encoded data removed]",
      "text/latex": [
       "$\\displaystyle \\theta e^{\\left(\\theta - 1\\right) \\log{\\left(x \\right)}}$"
      ],
      "text/plain": [
       "   (θ - 1)⋅log(x)\n",
       "θ⋅ℯ              "
      ]
     },
     "execution_count": 456,
     "metadata": {},
     "output_type": "execute_result"
    }
   ],
   "source": [
    "# likelihood\n",
    "\n",
    "# UNCOMMENT here to use an inbuilt distribution\n",
    "#X = Normal('x', 0, theta)\n",
    "#lhood = simplify(density(X)(x))\n",
    "\n",
    "# UNCOMMENT here to define manually\n",
    "lhood = theta*exp((theta-1)*log(x))\n",
    "\n",
    "lhood"
   ]
  },
  {
   "cell_type": "code",
   "execution_count": 457,
   "id": "069e0767-1cc5-4a79-a3bc-b5d141ac10d9",
   "metadata": {},
   "outputs": [
    {
     "data": {
      "image/png": "[encoded data removed]",
      "text/latex": [
       "$\\displaystyle \\left(\\theta - 1\\right) \\log{\\left(x \\right)} + \\log{\\left(\\theta \\right)}$"
      ],
      "text/plain": [
       "(θ - 1)⋅log(x) + log(θ)"
      ]
     },
     "execution_count": 457,
     "metadata": {},
     "output_type": "execute_result"
    }
   ],
   "source": [
    "# log likelihood\n",
    "\n",
    "logl = expand_log(log(lhood), force=True)\n",
    "logl"
   ]
  },
  {
   "cell_type": "code",
   "execution_count": 458,
   "id": "e318b2b6-deaf-4c26-9aa2-9661f1c1d04d",
   "metadata": {},
   "outputs": [
    {
     "data": {
      "image/png": "[encoded data removed]",
      "text/latex": [
       "$\\displaystyle \\log{\\left(x \\right)} + \\frac{1}{\\theta}$"
      ],
      "text/plain": [
       "         1\n",
       "log(x) + ─\n",
       "         θ"
      ]
     },
     "execution_count": 458,
     "metadata": {},
     "output_type": "execute_result"
    }
   ],
   "source": [
    "# first derivative of logl wrt theta\n",
    "\n",
    "diff1 = diff(logl, theta)\n",
    "diff1"
   ]
  },
  {
   "cell_type": "code",
   "execution_count": 459,
   "id": "3deb720e-4cd9-4dd6-ba23-05d07ffe533a",
   "metadata": {},
   "outputs": [
    {
     "data": {
      "image/png": "[encoded data removed]",
      "text/latex": [
       "$\\displaystyle - \\frac{1}{\\theta^{2}}$"
      ],
      "text/plain": [
       "-1 \n",
       "───\n",
       "  2\n",
       " θ "
      ]
     },
     "execution_count": 459,
     "metadata": {},
     "output_type": "execute_result"
    }
   ],
   "source": [
    "# second derivative of logl wrt theta\n",
    "\n",
    "diff2 = diff(diff1, theta)\n",
    "diff2"
   ]
  },
  {
   "cell_type": "code",
   "execution_count": 460,
   "id": "d913b643-f9b7-421e-9fdf-14b5cf1cdf7b",
   "metadata": {},
   "outputs": [
    {
     "data": {
      "image/png": "[encoded data removed]",
      "text/latex": [
       "$\\displaystyle \\frac{1}{\\theta^{2}}$"
      ],
      "text/plain": [
       "1 \n",
       "──\n",
       " 2\n",
       "θ "
      ]
     },
     "execution_count": 460,
     "metadata": {},
     "output_type": "execute_result"
    }
   ],
   "source": [
    "# Fisher information I(theta)\n",
    "# sub theta into x and simplify\n",
    "\n",
    "fisher = -simplify(diff2.subs(x, theta))\n",
    "fisher"
   ]
  },
  {
   "cell_type": "code",
   "execution_count": 461,
   "id": "7aaaa49a-e5ca-41e5-8448-a717701f4bb5",
   "metadata": {},
   "outputs": [
    {
     "data": {
      "image/png": "[encoded data removed]",
      "text/latex": [
       "$\\displaystyle \\frac{4 \\theta^{4}}{n}$"
      ],
      "text/plain": [
       "   4\n",
       "4⋅θ \n",
       "────\n",
       " n  "
      ]
     },
     "execution_count": 461,
     "metadata": {},
     "output_type": "execute_result"
    }
   ],
   "source": [
    "# CRLB\n",
    "\n",
    "# function of theta\n",
    "tau = theta**2\n",
    "\n",
    "crlb = diff(tau, theta)**2 / (n*fisher)\n",
    "crlb"
   ]
  },
  {
   "cell_type": "markdown",
   "id": "ccaf2f64-d1bd-47b0-a5f6-f3f599b1b3c1",
   "metadata": {
    "jp-MarkdownHeadingCollapsed": true,
    "tags": []
   },
   "source": [
    "### Score and CRLB Attainability ###\n",
    "Includes score for 1 RV and n RVs"
   ]
  },
  {
   "cell_type": "code",
   "execution_count": 462,
   "id": "b9a49c8a-e182-49fd-bff2-c8f4629d7439",
   "metadata": {},
   "outputs": [],
   "source": [
    "%reset -f\n",
    "\n",
    "from sympy import *\n",
    "from sympy.stats import *\n",
    "from sympy.functions.combinatorial.numbers import *"
   ]
  },
  {
   "cell_type": "code",
   "execution_count": 463,
   "id": "347c754b-aede-4399-92c5-d3cfe120131a",
   "metadata": {},
   "outputs": [],
   "source": [
    "# Symbols\n",
    "\n",
    "theta = Symbol('theta', positive=True)\n",
    "x = Symbol('x', positive=True)\n",
    "n = Symbol('n', positive=True)"
   ]
  },
  {
   "cell_type": "code",
   "execution_count": 464,
   "id": "d6c1a071-c6e9-4a35-b560-1db53ea702c5",
   "metadata": {},
   "outputs": [
    {
     "data": {
      "image/png": "[encoded data removed]",
      "text/latex": [
       "$\\displaystyle \\theta e^{\\left(\\theta - 1\\right) \\log{\\left(x \\right)}}$"
      ],
      "text/plain": [
       "   (θ - 1)⋅log(x)\n",
       "θ⋅ℯ              "
      ]
     },
     "execution_count": 464,
     "metadata": {},
     "output_type": "execute_result"
    }
   ],
   "source": [
    "# likelihood\n",
    "\n",
    "# UNCOMMENT here to use an inbuilt distribution\n",
    "#X = Normal('x', 0, theta)\n",
    "#lhood = simplify(density(X)(x))\n",
    "\n",
    "# UNCOMMENT here to define manually\n",
    "lhood = theta*exp((theta-1)*log(x))\n",
    "\n",
    "lhood"
   ]
  },
  {
   "cell_type": "code",
   "execution_count": 465,
   "id": "d32bd737-f137-4139-96c2-2ebfce7e6944",
   "metadata": {},
   "outputs": [
    {
     "data": {
      "image/png": "[encoded data removed]",
      "text/latex": [
       "$\\displaystyle \\left(\\theta - 1\\right) \\log{\\left(x \\right)} + \\log{\\left(\\theta \\right)}$"
      ],
      "text/plain": [
       "(θ - 1)⋅log(x) + log(θ)"
      ]
     },
     "execution_count": 465,
     "metadata": {},
     "output_type": "execute_result"
    }
   ],
   "source": [
    "# log likelihood\n",
    "\n",
    "logl = expand_log(log(lhood), force=True)\n",
    "logl"
   ]
  },
  {
   "cell_type": "code",
   "execution_count": 466,
   "id": "780676a9-fed3-4c80-bcfc-aa971c380b36",
   "metadata": {},
   "outputs": [
    {
     "data": {
      "image/png": "[encoded data removed]",
      "text/latex": [
       "$\\displaystyle \\log{\\left(x \\right)} + \\frac{1}{\\theta}$"
      ],
      "text/plain": [
       "         1\n",
       "log(x) + ─\n",
       "         θ"
      ]
     },
     "execution_count": 466,
     "metadata": {},
     "output_type": "execute_result"
    }
   ],
   "source": [
    "# score for 1 RV\n",
    "# first derivative of logl wrt theta\n",
    "\n",
    "score = diff(logl, theta)\n",
    "score"
   ]
  },
  {
   "cell_type": "code",
   "execution_count": 467,
   "id": "23ca8606-1021-456e-9a11-bb016e9d4bfc",
   "metadata": {},
   "outputs": [
    {
     "data": {
      "image/png": "[encoded data removed]",
      "text/latex": [
       "$\\displaystyle \\frac{n}{\\theta} + \\sum_{i=1}^{n} \\log{\\left({x}_{i} \\right)}$"
      ],
      "text/plain": [
       "      n            \n",
       "     ___           \n",
       "     ╲             \n",
       "n     ╲            \n",
       "─ +   ╱   log(x[i])\n",
       "θ    ╱             \n",
       "     ‾‾‾           \n",
       "    i = 1          "
      ]
     },
     "execution_count": 467,
     "metadata": {},
     "output_type": "execute_result"
    }
   ],
   "source": [
    "# score for n RVs\n",
    "\n",
    "i = Symbol('i')\n",
    "xi = Indexed('x', i) # need indexed variable for summation and product\n",
    "\n",
    "score = score.subs(x, xi)\n",
    "sum_x = Sum(score, (i, 1, n))\n",
    "sum_x = simplify(sum_x).doit()\n",
    "score = ratsimp(sum_x).doit()\n",
    "\n",
    "score"
   ]
  },
  {
   "cell_type": "code",
   "execution_count": null,
   "id": "20f18595-1608-4539-a958-bc1051e65b45",
   "metadata": {},
   "outputs": [],
   "source": []
  },
  {
   "cell_type": "markdown",
   "id": "d945d4d6-90a7-41f8-9c47-3975f7e9ce50",
   "metadata": {
    "jp-MarkdownHeadingCollapsed": true,
    "tags": []
   },
   "source": [
    "### Maximum Likelihood Estimator ###\n",
    "Takes derivative of log-likelihood and solves for parameter to yield statistic"
   ]
  },
  {
   "cell_type": "code",
   "execution_count": 468,
   "id": "e0b77c30-d342-463e-b8b0-8ac4dbbc74fe",
   "metadata": {},
   "outputs": [],
   "source": [
    "%reset -f\n",
    "\n",
    "from sympy import *\n",
    "from sympy.stats import *\n",
    "from sympy.functions.combinatorial.numbers import *"
   ]
  },
  {
   "cell_type": "code",
   "execution_count": 469,
   "id": "c0e55629-90be-4f1d-86e3-87c5ee385237",
   "metadata": {},
   "outputs": [],
   "source": [
    "# Symbols\n",
    "\n",
    "theta = Symbol('theta', positive=True)\n",
    "i = Symbol('i', positive=True, Set=S.Naturals)\n",
    "x = Indexed('x', i) # need indexed variable for summation and product\n",
    "n = Symbol('n', positive=True, Set=S.Naturals)"
   ]
  },
  {
   "cell_type": "code",
   "execution_count": 470,
   "id": "55677354-bb1b-4207-973c-410b17f86ae0",
   "metadata": {},
   "outputs": [
    {
     "data": {
      "image/png": "[encoded data removed]",
      "text/latex": [
       "$\\displaystyle \\theta e^{\\left(\\theta - 1\\right) \\log{\\left({x}_{i} \\right)}}$"
      ],
      "text/plain": [
       "   (θ - 1)⋅log(x[i])\n",
       "θ⋅ℯ                 "
      ]
     },
     "execution_count": 470,
     "metadata": {},
     "output_type": "execute_result"
    }
   ],
   "source": [
    "# likelihood for 1 RV\n",
    "\n",
    "# UNCOMMENT here to use an inbuilt distribution\n",
    "#X = Normal('x', 0, theta)\n",
    "#lhood = simplify(density(X)(x))\n",
    "\n",
    "# UNCOMMENT here to define manually\n",
    "lhood = theta*exp((theta-1)*log(x))\n",
    "\n",
    "lhood"
   ]
  },
  {
   "cell_type": "code",
   "execution_count": 471,
   "id": "9667a352-ff79-4f68-bcf5-d8114037bce1",
   "metadata": {},
   "outputs": [
    {
     "data": {
      "image/png": "[encoded data removed]",
      "text/latex": [
       "$\\displaystyle \\theta^{n} \\prod_{i=1}^{n} e^{\\left(\\theta - 1\\right) \\log{\\left({x}_{i} \\right)}}$"
      ],
      "text/plain": [
       "     n                      \n",
       "   ─┬──┬─                   \n",
       " n  │  │   (θ - 1)⋅log(x[i])\n",
       "θ ⋅ │  │  ℯ                 \n",
       "    │  │                    \n",
       "   i = 1                    "
      ]
     },
     "execution_count": 471,
     "metadata": {},
     "output_type": "execute_result"
    }
   ],
   "source": [
    "# likelihood for n RVs\n",
    "\n",
    "lhood = Product(lhood, (i, 1, n)).doit()\n",
    "\n",
    "lhood"
   ]
  },
  {
   "cell_type": "code",
   "execution_count": 472,
   "id": "b463554c-4605-40d8-96a2-264b762eb847",
   "metadata": {},
   "outputs": [
    {
     "data": {
      "image/png": "[encoded data removed]",
      "text/latex": [
       "$\\displaystyle n \\log{\\left(\\theta \\right)} + \\sum_{i=1}^{n} \\left(\\theta \\log{\\left({x}_{i} \\right)} - \\log{\\left({x}_{i} \\right)}\\right)$"
      ],
      "text/plain": [
       "             n                            \n",
       "            ___                           \n",
       "            ╲                             \n",
       "             ╲                            \n",
       "n⋅log(θ) +   ╱   (θ⋅log(x[i]) - log(x[i]))\n",
       "            ╱                             \n",
       "            ‾‾‾                           \n",
       "           i = 1                          "
      ]
     },
     "execution_count": 472,
     "metadata": {},
     "output_type": "execute_result"
    }
   ],
   "source": [
    "# log likelihood\n",
    "\n",
    "# either do expand() or expand_log() here\n",
    "logl = expand(log(lhood), force=True)\n",
    "logl"
   ]
  },
  {
   "cell_type": "code",
   "execution_count": 473,
   "id": "8d167dc2-043d-4bc4-a53d-90a373dddf96",
   "metadata": {},
   "outputs": [
    {
     "data": {
      "image/png": "[encoded data removed]",
      "text/latex": [
       "$\\displaystyle \\frac{n}{\\theta} + \\sum_{i=1}^{n} \\log{\\left({x}_{i} \\right)}$"
      ],
      "text/plain": [
       "      n            \n",
       "     ___           \n",
       "     ╲             \n",
       "n     ╲            \n",
       "─ +   ╱   log(x[i])\n",
       "θ    ╱             \n",
       "     ‾‾‾           \n",
       "    i = 1          "
      ]
     },
     "execution_count": 473,
     "metadata": {},
     "output_type": "execute_result"
    }
   ],
   "source": [
    "# derivative of logl\n",
    "# theoretically then set to zero to obtain conditions for maximum likelihood\n",
    "\n",
    "diff1 = simplify(diff(logl, theta))\n",
    "diff1"
   ]
  },
  {
   "cell_type": "code",
   "execution_count": 474,
   "id": "8cb5ac40-c385-4780-bc3a-636ef0613b83",
   "metadata": {},
   "outputs": [
    {
     "name": "stdout",
     "output_type": "stream",
     "text": [
      "⎡      -n       ⎤\n",
      "⎢───────────────⎥\n",
      "⎢  n            ⎥\n",
      "⎢ ___           ⎥\n",
      "⎢ ╲             ⎥\n",
      "⎢  ╲            ⎥\n",
      "⎢  ╱   log(x[i])⎥\n",
      "⎢ ╱             ⎥\n",
      "⎢ ‾‾‾           ⎥\n",
      "⎣i = 1          ⎦\n"
     ]
    }
   ],
   "source": [
    "# solve for theta to identify MLE\n",
    "\n",
    "mle = solve(diff1, theta)\n",
    "pprint(mle)"
   ]
  },
  {
   "cell_type": "markdown",
   "id": "792fa746-24e5-4f17-961c-0793111d5530",
   "metadata": {
    "jp-MarkdownHeadingCollapsed": true,
    "tags": []
   },
   "source": [
    "### Monotone Likelihood Ratio (MLR) Test ###"
   ]
  },
  {
   "cell_type": "code",
   "execution_count": 496,
   "id": "9ee701da-7cac-47b1-a192-37a9580cb4e2",
   "metadata": {},
   "outputs": [],
   "source": [
    "%reset -f\n",
    "\n",
    "from sympy import *\n",
    "from sympy.stats import *\n",
    "from sympy.functions.combinatorial.numbers import *"
   ]
  },
  {
   "cell_type": "code",
   "execution_count": 497,
   "id": "3a9ffb3a-8fd7-4ab4-8ad1-fa400e531c08",
   "metadata": {},
   "outputs": [],
   "source": [
    "# Symbols\n",
    "\n",
    "theta = Symbol('theta', positive=True)\n",
    "i = Symbol('i', positive=True, Set=S.Naturals)\n",
    "x = Indexed('x', i) # need indexed variable for summation and product\n",
    "n = Symbol('n', positive=True, Set=S.Naturals)\n",
    "\n",
    "t1 = Symbol('theta1')\n",
    "t2 = Symbol('theta2')"
   ]
  },
  {
   "cell_type": "code",
   "execution_count": 498,
   "id": "770c9626-ea29-4f43-ba97-b1c8f4071e3a",
   "metadata": {},
   "outputs": [
    {
     "data": {
      "image/png": "[encoded data removed]",
      "text/latex": [
       "$\\displaystyle \\frac{\\sqrt{2} e^{- \\frac{{x}_{i}^{2}}{2 \\theta^{2}}}}{2 \\sqrt{\\pi} \\theta}$"
      ],
      "text/plain": [
       "         2 \n",
       "    -x[i]  \n",
       "    ───────\n",
       "         2 \n",
       "      2⋅θ  \n",
       "√2⋅ℯ       \n",
       "───────────\n",
       "   2⋅√π⋅θ  "
      ]
     },
     "execution_count": 498,
     "metadata": {},
     "output_type": "execute_result"
    }
   ],
   "source": [
    "# likelihood for 1 RV\n",
    "\n",
    "# UNCOMMENT here to use an inbuilt distribution\n",
    "X = Normal('x', 0, theta)\n",
    "lhood = simplify(density(X)(x))\n",
    "\n",
    "# UNCOMMENT here to define manually\n",
    "#lhood = theta*exp((theta-1)*log(x))\n",
    "\n",
    "lhood"
   ]
  },
  {
   "cell_type": "code",
   "execution_count": 499,
   "id": "6b312066-d1a5-4a4d-9ea2-b1d2784b92f0",
   "metadata": {},
   "outputs": [
    {
     "data": {
      "image/png": "[encoded data removed]",
      "text/latex": [
       "$\\displaystyle \\left(\\frac{\\sqrt{2}}{2 \\sqrt{\\pi} \\theta}\\right)^{n} \\prod_{i=1}^{n} e^{- \\frac{{x}_{i}^{2}}{2 \\theta^{2}}}$"
      ],
      "text/plain": [
       "                n               \n",
       "          ─┬─────────┬─         \n",
       "           │         │        2 \n",
       "        n  │         │   -x[i]  \n",
       "⎛  √2  ⎞   │         │   ───────\n",
       "⎜──────⎟ ⋅ │         │        2 \n",
       "⎝2⋅√π⋅θ⎠   │         │     2⋅θ  \n",
       "           │         │  ℯ       \n",
       "           │         │          \n",
       "              i = 1             "
      ]
     },
     "execution_count": 499,
     "metadata": {},
     "output_type": "execute_result"
    }
   ],
   "source": [
    "# likelihood for n RVs\n",
    "\n",
    "lhood = Product(lhood, (i, 1, n)).doit()\n",
    "\n",
    "lhood"
   ]
  },
  {
   "cell_type": "code",
   "execution_count": 500,
   "id": "26b609f6-264f-4e4f-8239-8195eb82e68d",
   "metadata": {},
   "outputs": [],
   "source": [
    "# sub in t1 and t2\n",
    "lhood1 = lhood.subs(theta, t1)\n",
    "lhood2 = lhood.subs(theta, t2)"
   ]
  },
  {
   "cell_type": "code",
   "execution_count": 502,
   "id": "617484bd-554f-4bbd-92d7-34f23d141e3b",
   "metadata": {},
   "outputs": [
    {
     "data": {
      "image/png": "[encoded data removed]",
      "text/latex": [
       "$\\displaystyle \\frac{\\left(\\frac{\\theta_{1}}{\\theta_{2}}\\right)^{n} \\prod_{i=1}^{n} e^{- \\frac{{x}_{i}^{2}}{2 \\theta_{2}^{2}}}}{\\prod_{i=1}^{n} e^{- \\frac{{x}_{i}^{2}}{2 \\theta_{1}^{2}}}}$"
      ],
      "text/plain": [
       "            n               \n",
       "      ─┬─────────┬─         \n",
       "       │         │        2 \n",
       "    n  │         │   -x[i]  \n",
       "⎛θ₁⎞   │         │   ───────\n",
       "⎜──⎟ ⋅ │         │        2 \n",
       "⎝θ₂⎠   │         │    2⋅θ₂  \n",
       "       │         │  ℯ       \n",
       "       │         │          \n",
       "          i = 1             \n",
       "────────────────────────────\n",
       "         n                  \n",
       "   ─┬─────────┬─            \n",
       "    │         │        2    \n",
       "    │         │   -x[i]     \n",
       "    │         │   ───────   \n",
       "    │         │        2    \n",
       "    │         │    2⋅θ₁     \n",
       "    │         │  ℯ          \n",
       "    │         │             \n",
       "       i = 1                "
      ]
     },
     "execution_count": 502,
     "metadata": {},
     "output_type": "execute_result"
    }
   ],
   "source": [
    "# do the ratio\n",
    "# then assess whether it's increasing wrt T\n",
    "\n",
    "# can do simplify() or powsimp()\n",
    "powsimp(lhood2/lhood1, force=True)"
   ]
  },
  {
   "cell_type": "code",
   "execution_count": null,
   "id": "1bbd67a7-35d7-4dfc-969c-1c5e05bf385a",
   "metadata": {},
   "outputs": [],
   "source": []
  }
 ],
 "metadata": {
  "kernelspec": {
   "display_name": "Python 3 (ipykernel)",
   "language": "python",
   "name": "python3"
  },
  "language_info": {
   "codemirror_mode": {
    "name": "ipython",
    "version": 3
   },
   "file_extension": ".py",
   "mimetype": "text/x-python",
   "name": "python",
   "nbconvert_exporter": "python",
   "pygments_lexer": "ipython3",
   "version": "3.10.4"
  }
 },
 "nbformat": 4,
 "nbformat_minor": 5
}
