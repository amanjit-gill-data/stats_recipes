{
 "cells": [
  {
   "cell_type": "markdown",
   "id": "15dd4b02-d427-4530-97fe-f9f18a06c2d1",
   "metadata": {
    "tags": []
   },
   "source": [
    "## Other Topics"
   ]
  },
  {
   "cell_type": "markdown",
   "id": "3c85baa3-fd25-4f29-9696-bc679e20b2a2",
   "metadata": {
    "jp-MarkdownHeadingCollapsed": true,
    "tags": []
   },
   "source": [
    "#### Posterior Distribution\n",
    "##### Proportionality method"
   ]
  },
  {
   "cell_type": "code",
   "execution_count": 174,
   "id": "3e1beaa0-d3b2-43f8-aeb4-5253bca88df2",
   "metadata": {},
   "outputs": [],
   "source": [
    "%reset -f\n",
    "\n",
    "from sympy import *\n",
    "from sympy.stats import *\n",
    "from sympy.functions import *\n",
    "from sympy.integrals import *"
   ]
  },
  {
   "cell_type": "code",
   "execution_count": 185,
   "id": "4a1bb523-1ae4-49da-aa4c-26bc51ca3e50",
   "metadata": {},
   "outputs": [],
   "source": [
    "# Symbols\n",
    "\n",
    "theta = Symbol('theta', positive=True)\n",
    "i = Symbol('i', positive=True, Set=S.Naturals)\n",
    "n = Indexed('n', i) # need indexed variable for summation and product\n",
    "k = Symbol('k')\n",
    "t = Symbol('t')\n",
    "\n",
    "t1 = Symbol('theta1')\n",
    "t2 = Symbol('theta2')\n",
    "tau = Symbol('tau')\n",
    "lm = Symbol('lambda')"
   ]
  },
  {
   "cell_type": "code",
   "execution_count": 195,
   "id": "328c605f-2324-4940-aec5-6c76f79b7f2f",
   "metadata": {},
   "outputs": [
    {
     "data": {
      "text/latex": [
       "$\\displaystyle \\frac{\\lambda^{{n}_{i}} e^{- \\lambda}}{{n}_{i}!}$"
      ],
      "text/plain": [
       "lambda**n[i]*exp(-lambda)/factorial(n[i])"
      ]
     },
     "execution_count": 195,
     "metadata": {},
     "output_type": "execute_result"
    }
   ],
   "source": [
    "# density for 1 RV\n",
    "\n",
    "# UNCOMMENT here to use density function from an inbuilt distribution\n",
    "#X = Normal('x', 0, theta)\n",
    "#pdf = simplify(density(X)(x))\n",
    "\n",
    "# UNCOMMENT here to define manually\n",
    "pdf = exp(-lm) * (lm**n) / factorial(n)\n",
    "\n",
    "pdf"
   ]
  },
  {
   "cell_type": "code",
   "execution_count": 196,
   "id": "cc3a59fe-f9fd-4088-96b7-aa1413f3b6b4",
   "metadata": {},
   "outputs": [
    {
     "data": {
      "text/latex": [
       "$\\displaystyle \\left(\\lambda^{\\sum_{i=1}^{t} {n}_{i}}\\right) \\left(e^{- \\lambda}\\right)^{t} \\prod_{i=1}^{t} \\frac{1}{{n}_{i}!}$"
      ],
      "text/plain": [
       "lambda**Sum(n[i], (i, 1, t))*exp(-lambda)**t*Product(1/factorial(n[i]), (i, 1, t))"
      ]
     },
     "execution_count": 196,
     "metadata": {},
     "output_type": "execute_result"
    }
   ],
   "source": [
    "# pdf for n RVs\n",
    "\n",
    "pdf = simplify(Product(pdf, (i, 1, t)))\n",
    "\n",
    "pdf"
   ]
  },
  {
   "cell_type": "code",
   "execution_count": 198,
   "id": "6a660e5a-93e8-4848-be19-18cd1da2a69d",
   "metadata": {},
   "outputs": [
    {
     "data": {
      "text/latex": [
       "$\\displaystyle 16.0 \\lambda e^{- 4 \\lambda}$"
      ],
      "text/plain": [
       "16.0*lambda*exp(-4*lambda)"
      ]
     },
     "execution_count": 198,
     "metadata": {},
     "output_type": "execute_result"
    }
   ],
   "source": [
    "# tau (prior of parameter)\n",
    "\n",
    "tau = exp(-4*lm)*lm/(gamma(2)*(1/4)**2)\n",
    "tau"
   ]
  },
  {
   "cell_type": "code",
   "execution_count": 199,
   "id": "a84fbd0c-2b8e-468e-8e19-54e71168bf07",
   "metadata": {},
   "outputs": [
    {
     "data": {
      "text/latex": [
       "$\\displaystyle 16.0 \\left(\\lambda^{\\sum_{i=1}^{t} {n}_{i} + 1}\\right) e^{- 4 \\lambda} \\left(e^{- \\lambda}\\right)^{t} \\prod_{i=1}^{t} \\frac{1}{\\Gamma\\left({n}_{i} + 1\\right)}$"
      ],
      "text/plain": [
       "16.0*lambda**(Sum(n[i], (i, 1, t)) + 1)*exp(-4*lambda)*exp(-lambda)**t*Product(1/gamma(n[i] + 1), (i, 1, t))"
      ]
     },
     "execution_count": 199,
     "metadata": {},
     "output_type": "execute_result"
    }
   ],
   "source": [
    "# h(𝜃|W)*tau(𝜃)\n",
    "# then match terms to the suggested distribution\n",
    "\n",
    "product = simplify(pdf*tau)\n",
    "product"
   ]
  },
  {
   "cell_type": "code",
   "execution_count": null,
   "id": "5185ae2e-ac40-4b86-908d-c4d27912a7b3",
   "metadata": {},
   "outputs": [],
   "source": []
  },
  {
   "cell_type": "code",
   "execution_count": null,
   "id": "95c32d78-318c-4b72-9947-263de78382a5",
   "metadata": {},
   "outputs": [],
   "source": []
  },
  {
   "cell_type": "code",
   "execution_count": null,
   "id": "fd6fe4ab-6cb6-406b-9f31-1e63b4886d84",
   "metadata": {},
   "outputs": [],
   "source": []
  }
 ],
 "metadata": {
  "kernelspec": {
   "display_name": "Python 3 (ipykernel)",
   "language": "python",
   "name": "python3"
  },
  "language_info": {
   "codemirror_mode": {
    "name": "ipython",
    "version": 3
   },
   "file_extension": ".py",
   "mimetype": "text/x-python",
   "name": "python",
   "nbconvert_exporter": "python",
   "pygments_lexer": "ipython3",
   "version": "3.10.4"
  }
 },
 "nbformat": 4,
 "nbformat_minor": 5
}
