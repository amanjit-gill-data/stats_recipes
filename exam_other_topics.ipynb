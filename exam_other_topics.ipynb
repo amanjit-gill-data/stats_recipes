{
 "cells": [
  {
   "cell_type": "markdown",
   "id": "15dd4b02-d427-4530-97fe-f9f18a06c2d1",
   "metadata": {
    "tags": []
   },
   "source": [
    "## Other Topics"
   ]
  },
  {
   "cell_type": "markdown",
   "id": "3c85baa3-fd25-4f29-9696-bc679e20b2a2",
   "metadata": {
    "tags": []
   },
   "source": [
    "#### Posterior Distribution\n",
    "##### Proportionality method"
   ]
  },
  {
   "cell_type": "code",
   "execution_count": 174,
   "id": "3e1beaa0-d3b2-43f8-aeb4-5253bca88df2",
   "metadata": {},
   "outputs": [],
   "source": [
    "%reset -f\n",
    "\n",
    "from sympy import *\n",
    "from sympy.stats import *\n",
    "from sympy.functions import *\n",
    "from sympy.integrals import *"
   ]
  },
  {
   "cell_type": "code",
   "execution_count": 185,
   "id": "4a1bb523-1ae4-49da-aa4c-26bc51ca3e50",
   "metadata": {},
   "outputs": [],
   "source": [
    "# Symbols\n",
    "\n",
    "theta = Symbol('theta', positive=True)\n",
    "i = Symbol('i', positive=True, Set=S.Naturals)\n",
    "n = Indexed('n', i) # need indexed variable for summation and product\n",
    "k = Symbol('k')\n",
    "t = Symbol('t')\n",
    "\n",
    "t1 = Symbol('theta1')\n",
    "t2 = Symbol('theta2')\n",
    "tau = Symbol('tau')\n",
    "lm = Symbol('lambda')"
   ]
  },
  {
   "cell_type": "code",
   "execution_count": 195,
   "id": "328c605f-2324-4940-aec5-6c76f79b7f2f",
   "metadata": {},
   "outputs": [
    {
     "data": {
      "text/latex": [
       "$\\displaystyle \\frac{\\lambda^{{n}_{i}} e^{- \\lambda}}{{n}_{i}!}$"
      ],
      "text/plain": [
       "lambda**n[i]*exp(-lambda)/factorial(n[i])"
      ]
     },
     "execution_count": 195,
     "metadata": {},
     "output_type": "execute_result"
    }
   ],
   "source": [
    "# density for 1 RV\n",
    "\n",
    "# UNCOMMENT here to use density function from an inbuilt distribution\n",
    "#X = Normal('x', 0, theta)\n",
    "#pdf = simplify(density(X)(x))\n",
    "\n",
    "# UNCOMMENT here to define manually\n",
    "pdf = exp(-lm) * (lm**n) / factorial(n)\n",
    "\n",
    "pdf"
   ]
  },
  {
   "cell_type": "code",
   "execution_count": 196,
   "id": "cc3a59fe-f9fd-4088-96b7-aa1413f3b6b4",
   "metadata": {},
   "outputs": [
    {
     "data": {
      "text/latex": [
       "$\\displaystyle \\left(\\lambda^{\\sum_{i=1}^{t} {n}_{i}}\\right) \\left(e^{- \\lambda}\\right)^{t} \\prod_{i=1}^{t} \\frac{1}{{n}_{i}!}$"
      ],
      "text/plain": [
       "lambda**Sum(n[i], (i, 1, t))*exp(-lambda)**t*Product(1/factorial(n[i]), (i, 1, t))"
      ]
     },
     "execution_count": 196,
     "metadata": {},
     "output_type": "execute_result"
    }
   ],
   "source": [
    "# pdf for n RVs\n",
    "\n",
    "pdf = simplify(Product(pdf, (i, 1, t)))\n",
    "\n",
    "pdf"
   ]
  },
  {
   "cell_type": "code",
   "execution_count": 198,
   "id": "6a660e5a-93e8-4848-be19-18cd1da2a69d",
   "metadata": {},
   "outputs": [
    {
     "data": {
      "text/latex": [
       "$\\displaystyle 16.0 \\lambda e^{- 4 \\lambda}$"
      ],
      "text/plain": [
       "16.0*lambda*exp(-4*lambda)"
      ]
     },
     "execution_count": 198,
     "metadata": {},
     "output_type": "execute_result"
    }
   ],
   "source": [
    "# tau (prior of parameter)\n",
    "\n",
    "tau = exp(-4*lm)*lm/(gamma(2)*(1/4)**2)\n",
    "tau"
   ]
  },
  {
   "cell_type": "code",
   "execution_count": 199,
   "id": "a84fbd0c-2b8e-468e-8e19-54e71168bf07",
   "metadata": {},
   "outputs": [
    {
     "data": {
      "text/latex": [
       "$\\displaystyle 16.0 \\left(\\lambda^{\\sum_{i=1}^{t} {n}_{i} + 1}\\right) e^{- 4 \\lambda} \\left(e^{- \\lambda}\\right)^{t} \\prod_{i=1}^{t} \\frac{1}{\\Gamma\\left({n}_{i} + 1\\right)}$"
      ],
      "text/plain": [
       "16.0*lambda**(Sum(n[i], (i, 1, t)) + 1)*exp(-4*lambda)*exp(-lambda)**t*Product(1/gamma(n[i] + 1), (i, 1, t))"
      ]
     },
     "execution_count": 199,
     "metadata": {},
     "output_type": "execute_result"
    }
   ],
   "source": [
    "# h(𝜃|W)*tau(𝜃)\n",
    "# then match terms to the suggested distribution\n",
    "\n",
    "product = simplify(pdf*tau)\n",
    "product"
   ]
  },
  {
   "cell_type": "code",
   "execution_count": null,
   "id": "bfb193a8-0b9e-42a3-8bba-48cbcc9cde62",
   "metadata": {},
   "outputs": [],
   "source": []
  },
  {
   "cell_type": "markdown",
   "id": "c4cd9b64-2f83-4a5c-a4db-0e551890ec5b",
   "metadata": {
    "tags": []
   },
   "source": [
    "#### Random Variables"
   ]
  },
  {
   "cell_type": "code",
   "execution_count": 212,
   "id": "655f02e6-8536-43b4-9840-155d7796fdb8",
   "metadata": {},
   "outputs": [],
   "source": [
    "%reset -f\n",
    "\n",
    "from sympy import *\n",
    "from sympy.stats import *\n",
    "from sympy.stats import E, P\n",
    "from sympy.functions import *\n",
    "from sympy.integrals import *"
   ]
  },
  {
   "cell_type": "code",
   "execution_count": 220,
   "id": "8b9e49e2-a0a4-4960-8b96-9e0088ea8526",
   "metadata": {},
   "outputs": [],
   "source": [
    "theta = Symbol('theta', positive=True)\n",
    "x = Symbol('x')\n",
    "y = Symbol('y')"
   ]
  },
  {
   "cell_type": "markdown",
   "id": "fc6c9f5f-ba8a-4d67-a9f7-ca9395a43fc2",
   "metadata": {
    "jp-MarkdownHeadingCollapsed": true,
    "tags": []
   },
   "source": [
    "##### Random Variable With Custom PDF"
   ]
  },
  {
   "cell_type": "code",
   "execution_count": 226,
   "id": "eb6f5f53-a095-4824-bca8-97f4eee5752d",
   "metadata": {},
   "outputs": [
    {
     "data": {
      "text/latex": [
       "$\\displaystyle 6.25$"
      ],
      "text/plain": [
       "6.25000000000000"
      ]
     },
     "execution_count": 226,
     "metadata": {},
     "output_type": "execute_result"
    }
   ],
   "source": [
    "pdf = 4*exp(-4*(x-6))\n",
    "\n",
    "X = ContinuousRV(x, pdf, positive=True, set=Interval(6, oo))\n",
    "\n",
    "Expectation(X).doit().evalf()"
   ]
  },
  {
   "cell_type": "code",
   "execution_count": 228,
   "id": "91900b3a-d962-45a5-83db-423b38017240",
   "metadata": {},
   "outputs": [
    {
     "data": {
      "text/latex": [
       "$\\displaystyle 0.99966$"
      ],
      "text/plain": [
       "0.99966"
      ]
     },
     "execution_count": 228,
     "metadata": {},
     "output_type": "execute_result"
    }
   ],
   "source": [
    "P(X < 8).evalf(5)"
   ]
  },
  {
   "cell_type": "code",
   "execution_count": 230,
   "id": "ca22cfee-21d3-4fc2-b10f-f2cf504d1ae9",
   "metadata": {},
   "outputs": [],
   "source": [
    "# free space\n",
    "\n"
   ]
  },
  {
   "cell_type": "markdown",
   "id": "76c05c34-84e7-4af0-a0d4-01b74c0c2257",
   "metadata": {
    "jp-MarkdownHeadingCollapsed": true,
    "tags": []
   },
   "source": [
    "##### Random Variable With Built-In Distribution"
   ]
  },
  {
   "cell_type": "code",
   "execution_count": 236,
   "id": "a546d619-8e73-4c7e-866e-4beb349b67a6",
   "metadata": {},
   "outputs": [
    {
     "data": {
      "text/latex": [
       "$\\displaystyle 0.30854$"
      ],
      "text/plain": [
       "0.30854"
      ]
     },
     "execution_count": 236,
     "metadata": {},
     "output_type": "execute_result"
    }
   ],
   "source": [
    "# Normal\n",
    "\n",
    "mean = 3\n",
    "variance = 4\n",
    "\n",
    "X = Normal(x, mean, variance)\n",
    "\n",
    "P(X > 5).evalf(5)"
   ]
  },
  {
   "cell_type": "code",
   "execution_count": 243,
   "id": "e96dc01d-bb68-4fa8-be44-4594debbe969",
   "metadata": {},
   "outputs": [
    {
     "data": {
      "text/latex": [
       "$\\displaystyle 0.21284$"
      ],
      "text/plain": [
       "0.21284"
      ]
     },
     "execution_count": 243,
     "metadata": {},
     "output_type": "execute_result"
    }
   ],
   "source": [
    "# Binomial\n",
    "\n",
    "n = 12\n",
    "p = 0.4\n",
    "\n",
    "X = Binomial(x, 12, 0.4)\n",
    "\n",
    "# both of the below expressions work\n",
    "density(X)(4)\n",
    "P(Eq(X, 4)).evalf(5)"
   ]
  },
  {
   "cell_type": "code",
   "execution_count": 250,
   "id": "f28c324b-10ed-44b0-854e-1ece907dbb86",
   "metadata": {},
   "outputs": [
    {
     "data": {
      "text/latex": [
       "$\\displaystyle 0.4$"
      ],
      "text/plain": [
       "0.400000000000000"
      ]
     },
     "execution_count": 250,
     "metadata": {},
     "output_type": "execute_result"
    }
   ],
   "source": [
    "# Bernoulli\n",
    "\n",
    "p = 0.4\n",
    "\n",
    "X = Bernoulli(x, p)\n",
    "P(X > 0)"
   ]
  },
  {
   "cell_type": "code",
   "execution_count": 264,
   "id": "8812ee6f-e09f-4a6f-b62c-281aaea286f7",
   "metadata": {},
   "outputs": [
    {
     "data": {
      "text/latex": [
       "$\\displaystyle 0.038707$"
      ],
      "text/plain": [
       "0.038707"
      ]
     },
     "execution_count": 264,
     "metadata": {},
     "output_type": "execute_result"
    }
   ],
   "source": [
    "# Multinomial\n",
    "\n",
    "# probability for each outcome\n",
    "# must add to 1\n",
    "p1 = nsimplify(0.4)\n",
    "p2 = nsimplify(0.1)\n",
    "p3 = nsimplify(0.2)\n",
    "p4 = nsimplify(0.3)\n",
    "\n",
    "# number of trials\n",
    "n = 8\n",
    "\n",
    "# tally/count for each outcome\n",
    "# must equal number of trials\n",
    "x1 = 3\n",
    "x2 = 1\n",
    "x3 = 2\n",
    "x4 = 2\n",
    "\n",
    "# create distribution\n",
    "X = Multinomial('m', n, p1, p2, p3, p4)\n",
    "\n",
    "# probability of that combination of counts\n",
    "density(X)(x1, x2, x3, x4).evalf(5)"
   ]
  },
  {
   "cell_type": "code",
   "execution_count": null,
   "id": "439ef6e5-8777-4bda-a4fd-d92659c30c1b",
   "metadata": {},
   "outputs": [],
   "source": []
  }
 ],
 "metadata": {
  "kernelspec": {
   "display_name": "Python 3 (ipykernel)",
   "language": "python",
   "name": "python3"
  },
  "language_info": {
   "codemirror_mode": {
    "name": "ipython",
    "version": 3
   },
   "file_extension": ".py",
   "mimetype": "text/x-python",
   "name": "python",
   "nbconvert_exporter": "python",
   "pygments_lexer": "ipython3",
   "version": "3.10.4"
  }
 },
 "nbformat": 4,
 "nbformat_minor": 5
}
