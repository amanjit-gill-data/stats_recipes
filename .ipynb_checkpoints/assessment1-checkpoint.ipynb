{
 "cells": [
  {
   "cell_type": "code",
   "execution_count": 2,
   "id": "7fe9f383-504a-487f-a073-ab0fd35afce2",
   "metadata": {},
   "outputs": [],
   "source": [
    "from sympy import symbols"
   ]
  },
  {
   "cell_type": "code",
   "execution_count": 6,
   "id": "99f524f8-ea2d-46f1-a9ab-b21c46cd2b60",
   "metadata": {},
   "outputs": [],
   "source": [
    "x, y = symbols('x y')\n",
    "a, b = symbols('a,b')"
   ]
  },
  {
   "cell_type": "code",
   "execution_count": 45,
   "id": "ff014c33-7144-45d4-8ccf-b47f94d73775",
   "metadata": {},
   "outputs": [
    {
     "data": {
      "text/latex": [
       "$\\displaystyle 0.259259259259259$"
      ],
      "text/plain": [
       "0.259259259259259"
      ]
     },
     "execution_count": 45,
     "metadata": {},
     "output_type": "execute_result"
    }
   ],
   "source": [
    "#1\n",
    "\n",
    "from sympy import Symbol\n",
    "from sympy.stats import Binomial, density, P\n",
    "\n",
    "n = Symbol('n', positive=True, integer=True)\n",
    "p = Symbol('p', positive=True)\n",
    "X = Binomial('X', 3, 1/3)\n",
    "\n",
    "P(X>=2)"
   ]
  },
  {
   "cell_type": "code",
   "execution_count": 53,
   "id": "ceab7b00-5715-430b-8fda-745852d89c93",
   "metadata": {},
   "outputs": [],
   "source": [
    "#2\n",
    "\n",
    "# no proof done here"
   ]
  },
  {
   "cell_type": "code",
   "execution_count": 54,
   "id": "3d735072-c068-4e44-84c4-78ead845b327",
   "metadata": {},
   "outputs": [
    {
     "data": {
      "text/latex": [
       "$\\displaystyle 1$"
      ],
      "text/plain": [
       "1"
      ]
     },
     "execution_count": 54,
     "metadata": {},
     "output_type": "execute_result"
    }
   ],
   "source": [
    "#3\n",
    "\n",
    "from sympy import integrate\n",
    "\n",
    "integrate(x/2, (x, 0, 2))"
   ]
  },
  {
   "cell_type": "code",
   "execution_count": 55,
   "id": "b06b0c75-6284-42f5-9e26-7719294bb211",
   "metadata": {},
   "outputs": [],
   "source": [
    "#4\n",
    "\n",
    "# no proof done here"
   ]
  },
  {
   "cell_type": "code",
   "execution_count": 109,
   "id": "1661df95-f5fb-4b1c-9e12-2f49f0c445ad",
   "metadata": {},
   "outputs": [
    {
     "data": {
      "text/latex": [
       "$\\displaystyle 2 \\theta y e^{- \\theta y^{2}}$"
      ],
      "text/plain": [
       "2*theta*y*exp(-theta*y**2)"
      ]
     },
     "execution_count": 109,
     "metadata": {},
     "output_type": "execute_result"
    }
   ],
   "source": [
    "#5 \n",
    "\n",
    "from sympy import Symbol, E, Interval, oo, sqrt, diff\n",
    "from sympy.stats import ContinuousRV\n",
    "\n",
    "theta = Symbol('theta', positive=True)\n",
    "x = Symbol('x', positive=True)\n",
    "y = Symbol('y', positive=True)\n",
    "\n",
    "f = theta*E**(-theta*x)\n",
    "g = sqrt(x)\n",
    "\n",
    "ginv = x**2\n",
    "ginv_y = ginv.subs(x, y)\n",
    "\n",
    "f.subs(x, ginv_y)*abs(diff(ginv_y, y))"
   ]
  },
  {
   "cell_type": "code",
   "execution_count": 141,
   "id": "cb21440d-6e7f-4ecb-b678-e81f3b50e721",
   "metadata": {},
   "outputs": [
    {
     "data": {
      "text/latex": [
       "$\\displaystyle \\left( {x}_{0} \\mapsto - e^{- {x}_{0}} \\right)$"
      ],
      "text/plain": [
       "Lambda(x[0], -exp(-x[0]))"
      ]
     },
     "execution_count": 141,
     "metadata": {},
     "output_type": "execute_result"
    }
   ],
   "source": [
    "#6\n",
    "\n",
    "from sympy import Indexed\n",
    "from sympy.stats import JointRV, marginal_distribution\n",
    "\n",
    "x, y = (Indexed('x', i) for i in (1, 2))\n",
    "\n",
    "joint_pdf = E**-x\n",
    "joint_dist = JointRV('x', joint_pdf)\n",
    "\n",
    "marginal_distribution(joint_dist, joint_dist[0])"
   ]
  },
  {
   "cell_type": "code",
   "execution_count": 149,
   "id": "1fa83b96-0c92-47bf-8262-4f9a429559dd",
   "metadata": {},
   "outputs": [
    {
     "data": {
      "text/latex": [
       "$\\displaystyle 0.91$"
      ],
      "text/plain": [
       "0.910000000000000"
      ]
     },
     "execution_count": 149,
     "metadata": {},
     "output_type": "execute_result"
    }
   ],
   "source": [
    "#7\n",
    "\n",
    "x = Symbol('x')\n",
    "pdf = 2*(x-1)\n",
    "\n",
    "X = ContinuousRV(x, pdf, set=Interval(1, 2))\n",
    "\n",
    "P(X>1.3)"
   ]
  },
  {
   "cell_type": "code",
   "execution_count": 181,
   "id": "a26739bf-780c-4e07-bca5-5013cc38ace3",
   "metadata": {},
   "outputs": [
    {
     "data": {
      "text/latex": [
       "$\\displaystyle 0.199887614075144$"
      ],
      "text/plain": [
       "0.199887614075144"
      ]
     },
     "execution_count": 181,
     "metadata": {},
     "output_type": "execute_result"
    }
   ],
   "source": [
    "#8\n",
    "\n",
    "from sympy.stats import Poisson\n",
    "\n",
    "x = Symbol('x')\n",
    "\n",
    "X = Poisson('x', 1.61)\n",
    "\n",
    "P(X < 1)"
   ]
  },
  {
   "cell_type": "code",
   "execution_count": 191,
   "id": "4363e74c-9deb-4ef3-81ec-1f8b55081fa2",
   "metadata": {},
   "outputs": [
    {
     "data": {
      "text/latex": [
       "$\\displaystyle \\begin{cases} \\frac{n \\theta}{n + 1} & \\text{for}\\: n \\neq -1 \\\\n \\theta^{- n} \\log{\\left(\\theta \\right)} + \\infty \\operatorname{sign}{\\left(n \\right)} & \\text{otherwise} \\end{cases}$"
      ],
      "text/plain": [
       "Piecewise((n*theta/(n + 1), Ne(n, -1)), (n*log(theta)/theta**n + oo*sign(n), True))"
      ]
     },
     "execution_count": 191,
     "metadata": {},
     "output_type": "execute_result"
    }
   ],
   "source": [
    "#9\n",
    "\n",
    "from sympy.stats import E, variance\n",
    "\n",
    "n = Symbol('n', integer=True)\n",
    "theta = Symbol('theta', positive=True)\n",
    "t = Symbol('t')\n",
    "\n",
    "pdf = n * t**(n-1) / theta**n\n",
    "\n",
    "T = ContinuousRV(t, pdf, set=Interval(0, theta))\n",
    "\n",
    "E(T)"
   ]
  },
  {
   "cell_type": "code",
   "execution_count": 219,
   "id": "d7e77424-de12-40d9-82a7-991b091a6188",
   "metadata": {},
   "outputs": [
    {
     "data": {
      "text/latex": [
       "$\\displaystyle \\begin{cases} \\frac{n \\theta^{2}}{n + 2} & \\text{for}\\: n \\neq -2 \\\\n \\theta^{- n} \\log{\\left(\\theta \\right)} + \\infty \\operatorname{sign}{\\left(n \\right)} & \\text{otherwise} \\end{cases} - \\begin{cases} \\frac{n^{2} \\theta^{2}}{\\left(n + 1\\right)^{2}} & \\text{for}\\: n \\neq -1 \\\\\\left(n \\theta^{- n} \\log{\\left(\\theta \\right)} + \\infty \\operatorname{sign}{\\left(n \\right)}\\right)^{2} & \\text{otherwise} \\end{cases}$"
      ],
      "text/plain": [
       "Piecewise((n*theta**2/(n + 2), Ne(n, -2)), (n*log(theta)/theta**n + oo*sign(n), True)) - Piecewise((n**2*theta**2/(n + 1)**2, Ne(n, -1)), ((n*log(theta)/theta**n + oo*sign(n))**2, True))"
      ]
     },
     "execution_count": 219,
     "metadata": {},
     "output_type": "execute_result"
    }
   ],
   "source": [
    "#10\n",
    "\n",
    "E(T**2) - (E(T))**2"
   ]
  },
  {
   "cell_type": "code",
   "execution_count": 220,
   "id": "824020c1-7e01-4bc1-af00-c22b6247ffad",
   "metadata": {},
   "outputs": [
    {
     "data": {
      "text/latex": [
       "$\\displaystyle \\frac{n \\theta^{2}}{\\left(n + 1\\right)^{2} \\left(n + 2\\right)}$"
      ],
      "text/plain": [
       "n*theta**2/((n + 1)**2*(n + 2))"
      ]
     },
     "execution_count": 220,
     "metadata": {},
     "output_type": "execute_result"
    }
   ],
   "source": [
    "from sympy import factor\n",
    "\n",
    "variance = n*theta**2/(n+2) - (n*theta)**2/(n+1)**2\n",
    "factor(variance)"
   ]
  },
  {
   "cell_type": "code",
   "execution_count": 210,
   "id": "55c90265-d0f6-4f27-a322-f9d79c635b9a",
   "metadata": {},
   "outputs": [],
   "source": []
  }
 ],
 "metadata": {
  "kernelspec": {
   "display_name": "Python 3 (ipykernel)",
   "language": "python",
   "name": "python3"
  },
  "language_info": {
   "codemirror_mode": {
    "name": "ipython",
    "version": 3
   },
   "file_extension": ".py",
   "mimetype": "text/x-python",
   "name": "python",
   "nbconvert_exporter": "python",
   "pygments_lexer": "ipython3",
   "version": "3.10.4"
  }
 },
 "nbformat": 4,
 "nbformat_minor": 5
}
