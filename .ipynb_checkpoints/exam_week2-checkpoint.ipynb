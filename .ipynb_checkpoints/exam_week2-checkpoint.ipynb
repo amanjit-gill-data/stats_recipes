{
 "cells": [
  {
   "cell_type": "markdown",
   "id": "2921c772-4a42-4c7b-9f0e-eb4928495f9b",
   "metadata": {
    "tags": []
   },
   "source": [
    "## Week 2 - Sufficiency and Estimation ##"
   ]
  },
  {
   "cell_type": "markdown",
   "id": "f768f7c0-c897-4985-a026-f7dcba9241bf",
   "metadata": {
    "jp-MarkdownHeadingCollapsed": true,
    "tags": []
   },
   "source": [
    "### CRLB - Cramer-Rao Lower Bound ###"
   ]
  },
  {
   "cell_type": "code",
   "execution_count": 220,
   "id": "7db48493-c934-412c-a60f-c28400b6b036",
   "metadata": {},
   "outputs": [],
   "source": [
    "%reset -f\n",
    "\n",
    "from sympy import *\n",
    "from sympy.stats import *\n",
    "from sympy.functions.combinatorial.numbers import *"
   ]
  },
  {
   "cell_type": "code",
   "execution_count": 112,
   "id": "e45f8770-a51f-4073-b6ac-94190c130dee",
   "metadata": {},
   "outputs": [],
   "source": [
    "# Symbols\n",
    "\n",
    "theta = Symbol('theta')\n",
    "x = Symbol('x', positive=True)\n",
    "n = Symbol('n', positive=True)"
   ]
  },
  {
   "cell_type": "code",
   "execution_count": 113,
   "id": "5034fc3a-918a-4c49-a3a2-d01f873f1bd7",
   "metadata": {},
   "outputs": [
    {
     "data": {
      "text/latex": [
       "$\\displaystyle \\theta^{x} \\left(1 - \\theta\\right)^{1 - x}$"
      ],
      "text/plain": [
       "theta**x*(1 - theta)**(1 - x)"
      ]
     },
     "execution_count": 113,
     "metadata": {},
     "output_type": "execute_result"
    }
   ],
   "source": [
    "# likelihood\n",
    "\n",
    "lhood = (theta**x)*(1-theta)**(1-x)\n",
    "lhood"
   ]
  },
  {
   "cell_type": "code",
   "execution_count": 114,
   "id": "069e0767-1cc5-4a79-a3bc-b5d141ac10d9",
   "metadata": {},
   "outputs": [
    {
     "data": {
      "text/latex": [
       "$\\displaystyle x \\log{\\left(\\theta \\right)} + \\left(1 - x\\right) \\log{\\left(1 - \\theta \\right)}$"
      ],
      "text/plain": [
       "x*log(theta) + (1 - x)*log(1 - theta)"
      ]
     },
     "execution_count": 114,
     "metadata": {},
     "output_type": "execute_result"
    }
   ],
   "source": [
    "# log likelihood\n",
    "\n",
    "logll = expand_log(log(lhood), force=True)\n",
    "logll"
   ]
  },
  {
   "cell_type": "code",
   "execution_count": 115,
   "id": "e318b2b6-deaf-4c26-9aa2-9661f1c1d04d",
   "metadata": {},
   "outputs": [
    {
     "data": {
      "text/latex": [
       "$\\displaystyle - \\frac{1 - x}{1 - \\theta} + \\frac{x}{\\theta}$"
      ],
      "text/plain": [
       "-(1 - x)/(1 - theta) + x/theta"
      ]
     },
     "execution_count": 115,
     "metadata": {},
     "output_type": "execute_result"
    }
   ],
   "source": [
    "# first derivative of logll wrt theta\n",
    "\n",
    "diff1 = diff(logll, theta)\n",
    "diff1"
   ]
  },
  {
   "cell_type": "code",
   "execution_count": 116,
   "id": "3deb720e-4cd9-4dd6-ba23-05d07ffe533a",
   "metadata": {},
   "outputs": [
    {
     "data": {
      "text/latex": [
       "$\\displaystyle - \\frac{1 - x}{\\left(1 - \\theta\\right)^{2}} - \\frac{x}{\\theta^{2}}$"
      ],
      "text/plain": [
       "-(1 - x)/(1 - theta)**2 - x/theta**2"
      ]
     },
     "execution_count": 116,
     "metadata": {},
     "output_type": "execute_result"
    }
   ],
   "source": [
    "# second derivative of logll wrt theta\n",
    "\n",
    "diff2 = diff(diff1, theta)\n",
    "diff2"
   ]
  },
  {
   "cell_type": "code",
   "execution_count": 117,
   "id": "d913b643-f9b7-421e-9fdf-14b5cf1cdf7b",
   "metadata": {},
   "outputs": [
    {
     "data": {
      "text/latex": [
       "$\\displaystyle - \\frac{1}{\\theta \\left(\\theta - 1\\right)}$"
      ],
      "text/plain": [
       "-1/(theta*(theta - 1))"
      ]
     },
     "execution_count": 117,
     "metadata": {},
     "output_type": "execute_result"
    }
   ],
   "source": [
    "# Fisher information Ix(theta)\n",
    "# sub theta into x and simplify\n",
    "\n",
    "fisher = -simplify(diff2.subs(x, theta))\n",
    "fisher"
   ]
  },
  {
   "cell_type": "code",
   "execution_count": 118,
   "id": "7aaaa49a-e5ca-41e5-8448-a717701f4bb5",
   "metadata": {},
   "outputs": [
    {
     "data": {
      "text/latex": [
       "$\\displaystyle - \\frac{4 \\theta^{3} \\left(\\theta - 1\\right)}{n}$"
      ],
      "text/plain": [
       "-4*theta**3*(theta - 1)/n"
      ]
     },
     "execution_count": 118,
     "metadata": {},
     "output_type": "execute_result"
    }
   ],
   "source": [
    "# CRLB\n",
    "\n",
    "# function of theta\n",
    "tau = theta**2\n",
    "\n",
    "crlb = diff(tau, theta)**2 / (n*fisher)\n",
    "crlb"
   ]
  },
  {
   "cell_type": "markdown",
   "id": "ccaf2f64-d1bd-47b0-a5f6-f3f599b1b3c1",
   "metadata": {
    "jp-MarkdownHeadingCollapsed": true,
    "tags": []
   },
   "source": [
    "### Score and CRLB Attainability ###"
   ]
  },
  {
   "cell_type": "code",
   "execution_count": 201,
   "id": "b9a49c8a-e182-49fd-bff2-c8f4629d7439",
   "metadata": {},
   "outputs": [],
   "source": [
    "%reset -f\n",
    "\n",
    "from sympy import *\n",
    "from sympy.stats import *\n",
    "from sympy.functions.combinatorial.numbers import *"
   ]
  },
  {
   "cell_type": "code",
   "execution_count": 202,
   "id": "347c754b-aede-4399-92c5-d3cfe120131a",
   "metadata": {},
   "outputs": [],
   "source": [
    "# Symbols\n",
    "\n",
    "theta = Symbol('theta')\n",
    "x = Symbol('x', positive=True)\n",
    "n = Symbol('n', positive=True)"
   ]
  },
  {
   "cell_type": "code",
   "execution_count": 203,
   "id": "d6c1a071-c6e9-4a35-b560-1db53ea702c5",
   "metadata": {},
   "outputs": [
    {
     "data": {
      "text/latex": [
       "$\\displaystyle \\theta^{x} \\left(1 - \\theta\\right)^{1 - x}$"
      ],
      "text/plain": [
       "theta**x*(1 - theta)**(1 - x)"
      ]
     },
     "execution_count": 203,
     "metadata": {},
     "output_type": "execute_result"
    }
   ],
   "source": [
    "# likelihood\n",
    "\n",
    "lhood = (theta**x)*(1-theta)**(1-x)\n",
    "lhood"
   ]
  },
  {
   "cell_type": "code",
   "execution_count": 204,
   "id": "d32bd737-f137-4139-96c2-2ebfce7e6944",
   "metadata": {},
   "outputs": [
    {
     "data": {
      "text/latex": [
       "$\\displaystyle x \\log{\\left(\\theta \\right)} + \\left(1 - x\\right) \\log{\\left(1 - \\theta \\right)}$"
      ],
      "text/plain": [
       "x*log(theta) + (1 - x)*log(1 - theta)"
      ]
     },
     "execution_count": 204,
     "metadata": {},
     "output_type": "execute_result"
    }
   ],
   "source": [
    "# log likelihood\n",
    "\n",
    "logll = expand_log(log(lhood), force=True)\n",
    "logll"
   ]
  },
  {
   "cell_type": "code",
   "execution_count": 217,
   "id": "780676a9-fed3-4c80-bcfc-aa971c380b36",
   "metadata": {},
   "outputs": [
    {
     "data": {
      "text/latex": [
       "$\\displaystyle - \\frac{1 - x}{1 - \\theta} + \\frac{x}{\\theta}$"
      ],
      "text/plain": [
       "-(1 - x)/(1 - theta) + x/theta"
      ]
     },
     "execution_count": 217,
     "metadata": {},
     "output_type": "execute_result"
    }
   ],
   "source": [
    "# score for 1 RV\n",
    "# first derivative of logll wrt theta\n",
    "\n",
    "score = diff(logll, theta)\n",
    "score"
   ]
  },
  {
   "cell_type": "code",
   "execution_count": 218,
   "id": "23ca8606-1021-456e-9a11-bb016e9d4bfc",
   "metadata": {},
   "outputs": [
    {
     "data": {
      "text/latex": [
       "$\\displaystyle \\frac{n \\theta - \\sum_{i=1}^{n} {x}_{i}}{\\theta^{2} - \\theta}$"
      ],
      "text/plain": [
       "(n*theta - Sum(x[i], (i, 1, n)))/(theta**2 - theta)"
      ]
     },
     "execution_count": 218,
     "metadata": {},
     "output_type": "execute_result"
    }
   ],
   "source": [
    "# score for n RVs\n",
    "\n",
    "i = Symbol('i')\n",
    "xi = Indexed('x', i) # need indexed variable for summation and product\n",
    "\n",
    "score = score.subs(x, xi)\n",
    "sum_x = Sum(score, (i, 1, n))\n",
    "sum_x = simplify(sum_x).doit()\n",
    "score = ratsimp(sum_x).doit()\n",
    "\n",
    "score"
   ]
  },
  {
   "cell_type": "code",
   "execution_count": null,
   "id": "20f18595-1608-4539-a958-bc1051e65b45",
   "metadata": {},
   "outputs": [],
   "source": []
  },
  {
   "cell_type": "markdown",
   "id": "d945d4d6-90a7-41f8-9c47-3975f7e9ce50",
   "metadata": {
    "tags": []
   },
   "source": [
    "### Maximum Likelihood Estimator ###"
   ]
  },
  {
   "cell_type": "code",
   "execution_count": 219,
   "id": "e0b77c30-d342-463e-b8b0-8ac4dbbc74fe",
   "metadata": {},
   "outputs": [],
   "source": [
    "%reset -f\n",
    "\n",
    "from sympy import *\n",
    "from sympy.stats import *\n",
    "from sympy.functions.combinatorial.numbers import *"
   ]
  },
  {
   "cell_type": "code",
   "execution_count": 151,
   "id": "c0e55629-90be-4f1d-86e3-87c5ee385237",
   "metadata": {},
   "outputs": [],
   "source": [
    "# Symbols\n",
    "\n",
    "theta = Symbol('theta')\n",
    "i = Symbol('i')\n",
    "x = Indexed('x', i) # need indexed variable for summation and product\n",
    "n = Symbol('n', positive=True)"
   ]
  },
  {
   "cell_type": "code",
   "execution_count": 152,
   "id": "55677354-bb1b-4207-973c-410b17f86ae0",
   "metadata": {},
   "outputs": [
    {
     "data": {
      "text/latex": [
       "$\\displaystyle \\theta^{{x}_{i}} \\left(1 - \\theta\\right)^{1 - {x}_{i}}$"
      ],
      "text/plain": [
       "theta**x[i]*(1 - theta)**(1 - x[i])"
      ]
     },
     "execution_count": 152,
     "metadata": {},
     "output_type": "execute_result"
    }
   ],
   "source": [
    "# likelihood for 1 RV\n",
    "\n",
    "lhood = (theta**x)*(1-theta)**(1-x)\n",
    "lhood"
   ]
  },
  {
   "cell_type": "code",
   "execution_count": 153,
   "id": "9667a352-ff79-4f68-bcf5-d8114037bce1",
   "metadata": {},
   "outputs": [
    {
     "data": {
      "text/latex": [
       "$\\displaystyle \\left(\\theta^{\\sum_{i=1}^{n} {x}_{i}}\\right) \\left(1 - \\theta\\right)^{\\sum_{i=1}^{n} \\left(1 - {x}_{i}\\right)}$"
      ],
      "text/plain": [
       "theta**Sum(x[i], (i, 1, n))*(1 - theta)**Sum(1 - x[i], (i, 1, n))"
      ]
     },
     "execution_count": 153,
     "metadata": {},
     "output_type": "execute_result"
    }
   ],
   "source": [
    "# likelihood for n RVs\n",
    "\n",
    "lhood = Product(lhood, (i, 1, n)).doit()\n",
    "\n",
    "lhood"
   ]
  },
  {
   "cell_type": "code",
   "execution_count": 154,
   "id": "8d167dc2-043d-4bc4-a53d-90a373dddf96",
   "metadata": {},
   "outputs": [
    {
     "data": {
      "text/latex": [
       "$\\displaystyle - \\left(\\theta^{\\sum_{i=1}^{n} {x}_{i}}\\right) \\left(\\left(1 - \\theta\\right)^{n - \\sum_{i=1}^{n} {x}_{i} - 1}\\right) \\sum_{i=1}^{n} \\left(1 - \\frac{{x}_{i}}{\\theta}\\right)$"
      ],
      "text/plain": [
       "-theta**Sum(x[i], (i, 1, n))*(1 - theta)**(n - Sum(x[i], (i, 1, n)) - 1)*Sum(1 - x[i]/theta, (i, 1, n))"
      ]
     },
     "execution_count": 154,
     "metadata": {},
     "output_type": "execute_result"
    }
   ],
   "source": [
    "# derivative of lhood\n",
    "# theoretically then set to zero to obtain conditions for maximum likelihood\n",
    "\n",
    "diff1 = simplify(diff(lhood, theta).doit())\n",
    "diff1"
   ]
  },
  {
   "cell_type": "code",
   "execution_count": null,
   "id": "8cb5ac40-c385-4780-bc3a-636ef0613b83",
   "metadata": {},
   "outputs": [],
   "source": []
  }
 ],
 "metadata": {
  "kernelspec": {
   "display_name": "Python 3 (ipykernel)",
   "language": "python",
   "name": "python3"
  },
  "language_info": {
   "codemirror_mode": {
    "name": "ipython",
    "version": 3
   },
   "file_extension": ".py",
   "mimetype": "text/x-python",
   "name": "python",
   "nbconvert_exporter": "python",
   "pygments_lexer": "ipython3",
   "version": "3.10.4"
  }
 },
 "nbformat": 4,
 "nbformat_minor": 5
}
