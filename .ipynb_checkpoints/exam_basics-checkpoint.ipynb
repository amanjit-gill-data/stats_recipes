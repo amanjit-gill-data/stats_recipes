{
 "cells": [
  {
   "cell_type": "markdown",
   "id": "96737378-ee9d-4560-878a-530da18b809b",
   "metadata": {
    "tags": []
   },
   "source": [
    "# Basic Functions #"
   ]
  },
  {
   "cell_type": "markdown",
   "id": "504aaf8e-9ff5-411d-916a-496e68220daa",
   "metadata": {
    "tags": []
   },
   "source": [
    "### Expected Value, Variance and Moments ###"
   ]
  },
  {
   "cell_type": "code",
   "execution_count": 1,
   "id": "11305eea-3460-4ee2-b7c8-fd9a3520b64d",
   "metadata": {},
   "outputs": [],
   "source": [
    "%reset -f\n",
    "\n",
    "from sympy import *\n",
    "from sympy.stats import *\n",
    "from sympy.functions.combinatorial.numbers import *"
   ]
  },
  {
   "cell_type": "code",
   "execution_count": 11,
   "id": "5341b011-735a-421e-b1a5-8ac41318b4ff",
   "metadata": {},
   "outputs": [],
   "source": [
    "# Symbols\n",
    "\n",
    "theta = Symbol('theta')\n",
    "x = Symbol('x', positive=True)\n",
    "n = Symbol('n', positive=True)\n",
    "t = Symbol('t', positive=True)"
   ]
  },
  {
   "cell_type": "code",
   "execution_count": 18,
   "id": "b7086081-c7df-4ab3-84ad-3f5167d8437b",
   "metadata": {},
   "outputs": [
    {
     "data": {
      "text/latex": [
       "$\\displaystyle n t^{n - 1} \\theta^{- n}$"
      ],
      "text/plain": [
       "n*t**(n - 1)/theta**n"
      ]
     },
     "execution_count": 18,
     "metadata": {},
     "output_type": "execute_result"
    }
   ],
   "source": [
    "# density\n",
    "pdf = n * t**(n-1) / (theta**n)\n",
    "pdf"
   ]
  },
  {
   "cell_type": "code",
   "execution_count": 20,
   "id": "e8603708-53fe-4fc0-b66c-cdf299a992fa",
   "metadata": {},
   "outputs": [
    {
     "data": {
      "text/latex": [
       "$\\displaystyle \\frac{n \\theta}{n + 1}$"
      ],
      "text/plain": [
       "n*theta/(n + 1)"
      ]
     },
     "execution_count": 20,
     "metadata": {},
     "output_type": "execute_result"
    }
   ],
   "source": [
    "def expected_value(pdf, wrt, lower, upper):\n",
    "    return integrate(pdf, (wrt, lower, upper))\n",
    "\n",
    "# specify variable and bounds\n",
    "wrt = t\n",
    "lower = 0\n",
    "upper = theta\n",
    "\n",
    "exp_val = expected_value(wrt*pdf, wrt, lower, upper)\n",
    "exp_val = simplify(exp_val)\n",
    "exp_val"
   ]
  },
  {
   "cell_type": "code",
   "execution_count": null,
   "id": "1ad3aaf7-5a7c-4659-9ab8-4ef008c29c01",
   "metadata": {},
   "outputs": [],
   "source": []
  },
  {
   "cell_type": "code",
   "execution_count": null,
   "id": "e1e3851a-134a-4a31-b0b0-3b8601548376",
   "metadata": {},
   "outputs": [],
   "source": []
  }
 ],
 "metadata": {
  "kernelspec": {
   "display_name": "Python 3 (ipykernel)",
   "language": "python",
   "name": "python3"
  },
  "language_info": {
   "codemirror_mode": {
    "name": "ipython",
    "version": 3
   },
   "file_extension": ".py",
   "mimetype": "text/x-python",
   "name": "python",
   "nbconvert_exporter": "python",
   "pygments_lexer": "ipython3",
   "version": "3.10.4"
  }
 },
 "nbformat": 4,
 "nbformat_minor": 5
}
