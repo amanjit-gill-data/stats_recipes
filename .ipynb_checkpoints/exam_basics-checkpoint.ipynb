{
 "cells": [
  {
   "cell_type": "markdown",
   "id": "96737378-ee9d-4560-878a-530da18b809b",
   "metadata": {
    "tags": []
   },
   "source": [
    "## Basic Calculations"
   ]
  },
  {
   "cell_type": "markdown",
   "id": "6da51d44-c0ad-48e5-83a8-486ed4f7261d",
   "metadata": {
    "jp-MarkdownHeadingCollapsed": true,
    "tags": []
   },
   "source": [
    "#### Algebra and Counting"
   ]
  },
  {
   "cell_type": "code",
   "execution_count": 151,
   "id": "84a49010-527b-4f0f-87da-8e408c1a5d9e",
   "metadata": {},
   "outputs": [],
   "source": [
    "%reset -f\n",
    "\n",
    "from sympy import *\n",
    "from sympy.stats import *\n",
    "from sympy.functions import *\n",
    "from sympy.functions.combinatorial.numbers import *\n",
    "from sympy.integrals import *"
   ]
  },
  {
   "cell_type": "code",
   "execution_count": 149,
   "id": "a659592b-a512-4117-a954-51b051a5c848",
   "metadata": {},
   "outputs": [],
   "source": [
    "# Symbols\n",
    "\n",
    "theta = Symbol('theta', positive=True)\n",
    "x = Symbol('x')\n",
    "n = Symbol('n', positive=True)\n",
    "t = Symbol('t', positive=True)"
   ]
  },
  {
   "cell_type": "markdown",
   "id": "0066134b-17fa-4462-9af9-c3f8adcd86cc",
   "metadata": {
    "jp-MarkdownHeadingCollapsed": true,
    "tags": []
   },
   "source": [
    "##### Combinatorics"
   ]
  },
  {
   "cell_type": "code",
   "execution_count": 152,
   "id": "12bcd404-8640-4b57-919b-fb1fd3d161a2",
   "metadata": {},
   "outputs": [
    {
     "data": {
      "text/latex": [
       "$\\displaystyle 3$"
      ],
      "text/plain": [
       "3"
      ]
     },
     "execution_count": 152,
     "metadata": {},
     "output_type": "execute_result"
    }
   ],
   "source": [
    "# nCr\n",
    "\n",
    "nC(3,2)"
   ]
  },
  {
   "cell_type": "code",
   "execution_count": 154,
   "id": "c55d7ddc-4e03-4ea8-8316-accf1e3f356c",
   "metadata": {},
   "outputs": [
    {
     "data": {
      "text/latex": [
       "$\\displaystyle 6$"
      ],
      "text/plain": [
       "6"
      ]
     },
     "execution_count": 154,
     "metadata": {},
     "output_type": "execute_result"
    }
   ],
   "source": [
    "# nPr\n",
    "\n",
    "nP(3,2)"
   ]
  },
  {
   "cell_type": "code",
   "execution_count": 158,
   "id": "9323f02c-a067-4a05-b66c-3586efcd6d65",
   "metadata": {},
   "outputs": [
    {
     "data": {
      "text/latex": [
       "$\\displaystyle 120$"
      ],
      "text/plain": [
       "120"
      ]
     },
     "execution_count": 158,
     "metadata": {},
     "output_type": "execute_result"
    }
   ],
   "source": [
    "# factorial\n",
    "\n",
    "factorial(5)"
   ]
  },
  {
   "cell_type": "code",
   "execution_count": 194,
   "id": "e339b215-ae68-4096-a36d-e34a4290fde9",
   "metadata": {},
   "outputs": [],
   "source": [
    "# free space\n"
   ]
  },
  {
   "cell_type": "markdown",
   "id": "504aaf8e-9ff5-411d-916a-496e68220daa",
   "metadata": {
    "jp-MarkdownHeadingCollapsed": true,
    "tags": []
   },
   "source": [
    "#### Expected Value, Variance and Moments"
   ]
  },
  {
   "cell_type": "code",
   "execution_count": 233,
   "id": "11305eea-3460-4ee2-b7c8-fd9a3520b64d",
   "metadata": {},
   "outputs": [],
   "source": [
    "%reset -f\n",
    "\n",
    "from sympy import *\n",
    "from sympy.stats import *\n",
    "from sympy.functions import *\n",
    "from sympy.integrals import *"
   ]
  },
  {
   "cell_type": "code",
   "execution_count": 234,
   "id": "5341b011-735a-421e-b1a5-8ac41318b4ff",
   "metadata": {},
   "outputs": [],
   "source": [
    "# Symbols\n",
    "\n",
    "theta = Symbol('theta', positive=True)\n",
    "x = Symbol('x')\n",
    "n = Symbol('n', positive=True)\n",
    "t = Symbol('t', positive=True)"
   ]
  },
  {
   "cell_type": "code",
   "execution_count": 235,
   "id": "b7086081-c7df-4ab3-84ad-3f5167d8437b",
   "metadata": {},
   "outputs": [
    {
     "data": {
      "text/latex": [
       "$\\displaystyle \\theta e^{\\left(\\theta - 1\\right) \\log{\\left(x \\right)}}$"
      ],
      "text/plain": [
       "theta*exp((theta - 1)*log(x))"
      ]
     },
     "execution_count": 235,
     "metadata": {},
     "output_type": "execute_result"
    }
   ],
   "source": [
    "# density\n",
    "\n",
    "# UNCOMMENT here to use an inbuilt distribution\n",
    "#X = Normal('x', 0, theta)\n",
    "#lhood = simplify(density(X)(x))\n",
    "\n",
    "# UNCOMMENT here to define manually\n",
    "pdf = theta*exp((theta-1)*log(x))\n",
    "\n",
    "pdf"
   ]
  },
  {
   "cell_type": "code",
   "execution_count": 236,
   "id": "e8603708-53fe-4fc0-b66c-cdf299a992fa",
   "metadata": {},
   "outputs": [
    {
     "data": {
      "text/latex": [
       "$\\displaystyle \\frac{\\theta}{\\theta + 1}$"
      ],
      "text/plain": [
       "theta/(theta + 1)"
      ]
     },
     "execution_count": 236,
     "metadata": {},
     "output_type": "execute_result"
    }
   ],
   "source": [
    "# MUST RUN BEFORE VARIANCE/MOMENTS\n",
    "# expected value\n",
    "# also works for g(x) transformed RV\n",
    "\n",
    "def expected_value(of, pdf, wrt, lower, upper):\n",
    "    return integrate(of*pdf, (wrt, lower, upper), conds='none').doit()\n",
    "\n",
    "# what you're finding expected value of i.e. x, 1/x, x**2, etc\n",
    "of = x\n",
    "\n",
    "# define variable and bounds\n",
    "wrt = x\n",
    "lower = 0\n",
    "upper = 1\n",
    "\n",
    "exp_val = expected_value(of, pdf, wrt, lower, upper)\n",
    "exp_val = simplify(exp_val)\n",
    "exp_val"
   ]
  },
  {
   "cell_type": "code",
   "execution_count": 237,
   "id": "d4a1a0c8-92ea-47f1-8357-34c2f5c3159f",
   "metadata": {},
   "outputs": [
    {
     "data": {
      "text/latex": [
       "$\\displaystyle \\frac{\\theta}{\\theta^{3} + 4 \\theta^{2} + 5 \\theta + 2}$"
      ],
      "text/plain": [
       "theta/(theta**3 + 4*theta**2 + 5*theta + 2)"
      ]
     },
     "execution_count": 237,
     "metadata": {},
     "output_type": "execute_result"
    }
   ],
   "source": [
    "# variance\n",
    "\n",
    "variance = expected_value(wrt**2, pdf, wrt, lower, upper) - exp_val**2\n",
    "variance = simplify(variance)\n",
    "variance"
   ]
  },
  {
   "cell_type": "code",
   "execution_count": 238,
   "id": "2d788a44-2045-43ef-bd94-e762a758a989",
   "metadata": {},
   "outputs": [
    {
     "data": {
      "text/latex": [
       "$\\displaystyle \\frac{\\theta}{\\theta + 3}$"
      ],
      "text/plain": [
       "theta/(theta + 3)"
      ]
     },
     "execution_count": 238,
     "metadata": {},
     "output_type": "execute_result"
    }
   ],
   "source": [
    "# rth raw moment\n",
    "\n",
    "r = 3\n",
    "\n",
    "raw_moment = expected_value(wrt**r, pdf, wrt, lower, upper)\n",
    "raw_moment = simplify(raw_moment)\n",
    "raw_moment"
   ]
  },
  {
   "cell_type": "code",
   "execution_count": 239,
   "id": "bd215c33-d6b2-478e-8477-93f93345def1",
   "metadata": {},
   "outputs": [
    {
     "data": {
      "text/latex": [
       "$\\displaystyle \\frac{\\theta \\left(x - 1\\right) e^{\\theta \\log{\\left(x \\right)}}}{\\theta + 1}$"
      ],
      "text/plain": [
       "theta*(x - 1)*exp(theta*log(x))/(theta + 1)"
      ]
     },
     "execution_count": 239,
     "metadata": {},
     "output_type": "execute_result"
    }
   ],
   "source": [
    "# rth central moment\n",
    "# uses the risch algorithm to allow integration by parts\n",
    "\n",
    "r = 1\n",
    "\n",
    "integrand = ((wrt - exp_val)**r)*pdf\n",
    "cent_moment = integrate(integrand, wrt, risch=True, conds='none').doit()\n",
    "cent_moment = simplify(cent_moment)\n",
    "cent_moment"
   ]
  },
  {
   "cell_type": "code",
   "execution_count": null,
   "id": "93a0febc-862e-49a6-83a2-c6c27505a0f8",
   "metadata": {},
   "outputs": [],
   "source": []
  },
  {
   "cell_type": "markdown",
   "id": "2904d2b2-1dfd-46b1-9080-db5dfbef8006",
   "metadata": {
    "tags": []
   },
   "source": [
    "#### Calculus"
   ]
  },
  {
   "cell_type": "code",
   "execution_count": 240,
   "id": "b39a4d8a-e97d-4fa2-8404-b57d8c91616c",
   "metadata": {},
   "outputs": [],
   "source": [
    "%reset -f\n",
    "\n",
    "from sympy import *\n",
    "from sympy.stats import *\n",
    "from sympy.functions import *\n",
    "from sympy.integrals import *"
   ]
  },
  {
   "cell_type": "code",
   "execution_count": 249,
   "id": "8c3578aa-e6b4-4b35-b6a6-a8e761e1f322",
   "metadata": {},
   "outputs": [],
   "source": [
    "# Symbols\n",
    "\n",
    "theta = Symbol('theta', positive=True)\n",
    "x = Symbol('x')\n",
    "n = Symbol('n', positive=True)\n",
    "t = Symbol('t', positive=True)"
   ]
  },
  {
   "cell_type": "code",
   "execution_count": 243,
   "id": "1adbd120-71f7-4e83-92a7-f18b0a345891",
   "metadata": {},
   "outputs": [],
   "source": [
    "# free space\n",
    "\n"
   ]
  },
  {
   "cell_type": "markdown",
   "id": "0188470c-f5dc-4feb-b3ef-6ea1048ed1ed",
   "metadata": {
    "jp-MarkdownHeadingCollapsed": true,
    "tags": []
   },
   "source": [
    "##### Derivative"
   ]
  },
  {
   "cell_type": "code",
   "execution_count": 244,
   "id": "c8f55b13-5000-4a32-896c-189a0548b5da",
   "metadata": {},
   "outputs": [
    {
     "data": {
      "text/latex": [
       "$\\displaystyle 2 x - 2$"
      ],
      "text/plain": [
       "2*x - 2"
      ]
     },
     "execution_count": 244,
     "metadata": {},
     "output_type": "execute_result"
    }
   ],
   "source": [
    "# first derivative of f\n",
    "\n",
    "wrt = x\n",
    "diff1 = diff(f, wrt)\n",
    "diff1"
   ]
  },
  {
   "cell_type": "code",
   "execution_count": 245,
   "id": "b11ce30f-3db8-4441-bcbe-4c9081f66ed8",
   "metadata": {},
   "outputs": [
    {
     "data": {
      "text/latex": [
       "$\\displaystyle 2$"
      ],
      "text/plain": [
       "2"
      ]
     },
     "execution_count": 245,
     "metadata": {},
     "output_type": "execute_result"
    }
   ],
   "source": [
    "# second derivative of f\n",
    "\n",
    "wrt = x\n",
    "diff2 = diff(diff1, wrt)\n",
    "diff2"
   ]
  },
  {
   "cell_type": "code",
   "execution_count": 246,
   "id": "5c426ab5-a062-4018-a697-444e64bb2933",
   "metadata": {},
   "outputs": [],
   "source": [
    "# free space\n",
    "\n"
   ]
  },
  {
   "cell_type": "markdown",
   "id": "81a0bff7-5af1-450f-99e7-4ea1db1380e0",
   "metadata": {
    "tags": []
   },
   "source": [
    "##### Integral"
   ]
  },
  {
   "cell_type": "code",
   "execution_count": 250,
   "id": "98f4c340-c36d-4270-a1f5-be3837817b5e",
   "metadata": {},
   "outputs": [
    {
     "data": {
      "text/latex": [
       "$\\displaystyle \\frac{x^{3}}{3} - x^{2} + x$"
      ],
      "text/plain": [
       "x**3/3 - x**2 + x"
      ]
     },
     "execution_count": 250,
     "metadata": {},
     "output_type": "execute_result"
    }
   ],
   "source": [
    "# indefinite integral of f\n",
    "# automatically has the risch algorithm available in case of integration by parts\n",
    "\n",
    "f = x**2 - 2*x + 1\n",
    "wrt = x\n",
    "\n",
    "integrate(f, wrt, conds='none', risch=True)"
   ]
  },
  {
   "cell_type": "code",
   "execution_count": 251,
   "id": "16939a1a-85f2-4aa8-bbe3-4e41ea4b2f5f",
   "metadata": {},
   "outputs": [
    {
     "data": {
      "text/latex": [
       "$\\displaystyle \\frac{730}{3}$"
      ],
      "text/plain": [
       "730/3"
      ]
     },
     "execution_count": 251,
     "metadata": {},
     "output_type": "execute_result"
    }
   ],
   "source": [
    "# definite integral of f\n",
    "\n",
    "f = x**2 - 2*x + 1\n",
    "\n",
    "wrt = x\n",
    "lower = 0\n",
    "upper = 10\n",
    "\n",
    "integrate(f, (wrt, lower, upper), conds='none')"
   ]
  },
  {
   "cell_type": "code",
   "execution_count": 252,
   "id": "a552e3c1-660c-4f62-8046-c6fb0c6ce2fb",
   "metadata": {},
   "outputs": [
    {
     "data": {
      "text/latex": [
       "$\\displaystyle \\frac{x^{4}}{4}$"
      ],
      "text/plain": [
       "x**4/4"
      ]
     },
     "execution_count": 252,
     "metadata": {},
     "output_type": "execute_result"
    }
   ],
   "source": [
    "# indefinite integral of the product of two expressions\n",
    "\n",
    "f = x**2\n",
    "g = x\n",
    "wrt = x\n",
    "\n",
    "integrate(f*g, wrt, conds='none', risch=True)"
   ]
  },
  {
   "cell_type": "code",
   "execution_count": 255,
   "id": "945975bd-b14a-4c46-91eb-8145ac75800c",
   "metadata": {},
   "outputs": [
    {
     "data": {
      "text/latex": [
       "$\\displaystyle 4$"
      ],
      "text/plain": [
       "4"
      ]
     },
     "execution_count": 255,
     "metadata": {},
     "output_type": "execute_result"
    }
   ],
   "source": [
    "# definite integral of the product of two expressions\n",
    "\n",
    "f = x**2\n",
    "g = x\n",
    "\n",
    "wrt = x\n",
    "lower = 0\n",
    "upper = 2\n",
    "\n",
    "integrate(f*g, (wrt, lower, upper), conds='none')"
   ]
  },
  {
   "cell_type": "markdown",
   "id": "e40ead06-5ea4-41a2-a575-90c9776cde5c",
   "metadata": {},
   "source": [
    "#### Free Calculation Space"
   ]
  },
  {
   "cell_type": "code",
   "execution_count": null,
   "id": "40cc4d1e-f442-45a3-b9e0-55bf2bc65a78",
   "metadata": {},
   "outputs": [],
   "source": []
  },
  {
   "cell_type": "code",
   "execution_count": null,
   "id": "8c359992-19c5-4e6b-8b0e-ea43e0acf4f3",
   "metadata": {},
   "outputs": [],
   "source": []
  },
  {
   "cell_type": "markdown",
   "id": "cdeaccda-6da9-43a1-a185-97381e91d361",
   "metadata": {
    "tags": []
   },
   "source": [
    "#### Derivatives ####"
   ]
  },
  {
   "cell_type": "code",
   "execution_count": 191,
   "id": "9f8c2d43-cab5-4d96-b71b-7627bcf210a1",
   "metadata": {},
   "outputs": [
    {
     "data": {
      "text/latex": [
       "$\\displaystyle 2 x - 2$"
      ],
      "text/plain": [
       "2*x - 2"
      ]
     },
     "execution_count": 191,
     "metadata": {},
     "output_type": "execute_result"
    }
   ],
   "source": [
    "# first derivative of f\n",
    "\n",
    "wrt = x\n",
    "diff1 = diff(f, wrt)\n",
    "diff1"
   ]
  },
  {
   "cell_type": "code",
   "execution_count": 193,
   "id": "a11c60f8-fdc9-40b0-8e75-44010708a2b9",
   "metadata": {},
   "outputs": [
    {
     "data": {
      "text/latex": [
       "$\\displaystyle 2$"
      ],
      "text/plain": [
       "2"
      ]
     },
     "execution_count": 193,
     "metadata": {},
     "output_type": "execute_result"
    }
   ],
   "source": [
    "# second derivative of f\n",
    "\n",
    "wrt = x\n",
    "diff2 = diff(diff1, wrt)\n",
    "diff2"
   ]
  },
  {
   "cell_type": "code",
   "execution_count": 85,
   "id": "2542b169-3c87-4b2a-8329-3c64dfa18440",
   "metadata": {},
   "outputs": [
    {
     "data": {
      "text/latex": [
       "$\\displaystyle \\frac{1}{\\left(\\theta + 1\\right)^{4}}$"
      ],
      "text/plain": [
       "(theta + 1)**(-4)"
      ]
     },
     "execution_count": 85,
     "metadata": {},
     "output_type": "execute_result"
    }
   ],
   "source": [
    "# any other operations\n",
    "\n",
    "simplify(diff1**2)"
   ]
  },
  {
   "cell_type": "markdown",
   "id": "3cbb371d-04f0-4ee8-91b7-ddd9ede74f68",
   "metadata": {
    "tags": []
   },
   "source": [
    "#### Integrals ####"
   ]
  },
  {
   "cell_type": "code",
   "execution_count": 195,
   "id": "7614607b-b6f8-4ae4-9fb5-b59c05cadf92",
   "metadata": {},
   "outputs": [
    {
     "data": {
      "text/latex": [
       "$\\displaystyle \\frac{x^{3}}{3} - x^{2} + x$"
      ],
      "text/plain": [
       "x**3/3 - x**2 + x"
      ]
     },
     "execution_count": 195,
     "metadata": {},
     "output_type": "execute_result"
    }
   ],
   "source": [
    "# indefinite integral of f\n",
    "# automatically has the risch algorithm available in case of integration by parts\n",
    "\n",
    "wrt = x\n",
    "integrate(f, wrt, conds='none', risch=True).doit()"
   ]
  },
  {
   "cell_type": "code",
   "execution_count": 197,
   "id": "d4f57f49-2dad-4f24-94be-1887e8508613",
   "metadata": {},
   "outputs": [
    {
     "data": {
      "text/latex": [
       "$\\displaystyle \\frac{730}{3}$"
      ],
      "text/plain": [
       "730/3"
      ]
     },
     "execution_count": 197,
     "metadata": {},
     "output_type": "execute_result"
    }
   ],
   "source": [
    "# definite integral of f\n",
    "\n",
    "wrt = x\n",
    "lower = 0\n",
    "upper = 10\n",
    "\n",
    "integrate(f, (wrt, lower, upper), conds='none').doit()"
   ]
  },
  {
   "cell_type": "code",
   "execution_count": 198,
   "id": "1fdc2df6-5672-4895-89b6-399feb3131dc",
   "metadata": {},
   "outputs": [
    {
     "data": {
      "image/png": "[encoded data removed]",
      "text/plain": [
       "<Figure size 432x288 with 1 Axes>"
      ]
     },
     "metadata": {
      "needs_background": "light"
     },
     "output_type": "display_data"
    },
    {
     "data": {
      "text/plain": [
       "<sympy.plotting.plot.Plot at 0x2a884b656c0>"
      ]
     },
     "execution_count": 198,
     "metadata": {},
     "output_type": "execute_result"
    }
   ],
   "source": [
    "# plot if needed\n",
    "\n",
    "plot(f, xlim=(0, 10), ylim=(0, 20), adaptive=False, nb_of_points=500)"
   ]
  },
  {
   "cell_type": "code",
   "execution_count": 199,
   "id": "6793090d-fc69-4a82-a90c-92903b44ba10",
   "metadata": {},
   "outputs": [],
   "source": [
    "# free space"
   ]
  },
  {
   "cell_type": "code",
   "execution_count": null,
   "id": "e4acdd0f-e2e1-44b6-b54c-1f4c75e9c4cd",
   "metadata": {},
   "outputs": [],
   "source": []
  }
 ],
 "metadata": {
  "kernelspec": {
   "display_name": "Python 3 (ipykernel)",
   "language": "python",
   "name": "python3"
  },
  "language_info": {
   "codemirror_mode": {
    "name": "ipython",
    "version": 3
   },
   "file_extension": ".py",
   "mimetype": "text/x-python",
   "name": "python",
   "nbconvert_exporter": "python",
   "pygments_lexer": "ipython3",
   "version": "3.10.4"
  }
 },
 "nbformat": 4,
 "nbformat_minor": 5
}
