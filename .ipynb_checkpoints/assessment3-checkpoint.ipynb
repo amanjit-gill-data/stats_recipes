{
 "cells": [
  {
   "cell_type": "code",
   "execution_count": 276,
   "id": "a0d8c006-c21d-437c-a41e-60ed38037e5a",
   "metadata": {},
   "outputs": [],
   "source": [
    "from sympy import *\n",
    "from sympy.stats import *\n",
    "from sympy.functions.combinatorial.numbers import *"
   ]
  },
  {
   "cell_type": "code",
   "execution_count": 277,
   "id": "8baba237-30fb-4e0e-abef-c09d0744885a",
   "metadata": {},
   "outputs": [
    {
     "data": {
      "text/latex": [
       "$\\displaystyle \\frac{16.0 \\lambda \\left(\\lambda^{\\sum_{i=1}^{t} n}\\right) e^{- 4.0 \\lambda} e^{- \\lambda t}}{\\prod_{i=1}^{t} n!}$"
      ],
      "text/plain": [
       "16.0*lambda*lambda**Sum(n, (i, 1, t))*exp(-4.0*lambda)*exp(-lambda*t)/Product(factorial(n), (i, 1, t))"
      ]
     },
     "execution_count": 277,
     "metadata": {},
     "output_type": "execute_result"
    }
   ],
   "source": [
    "# Q1a\n",
    "# find posterior, h(lambda|N)\n",
    "# define f(n|lambda) for all RVs, and prior on lambda, on my own\n",
    "\n",
    "i = Symbol('i')\n",
    "n = Indexed('n', i) # need indexed variable for summation and product\n",
    "lm = Symbol('lambda')\n",
    "t = Symbol('t')\n",
    "\n",
    "# define density for random vector\n",
    "f = exp(-t*lm)*lm**Sum('n', (i, 1, t))/Product(factorial('n'), (i, 1, t))\n",
    "\n",
    "# define prior for lambda\n",
    "tau = Gamma('tau', 2, 1/4)\n",
    "density(tau)(lm)\n",
    "\n",
    "# multiply to get posterior\n",
    "f*density(tau)(lm)"
   ]
  },
  {
   "cell_type": "code",
   "execution_count": 30,
   "id": "7ca24788-9dca-4be3-9872-65629f2cd3ad",
   "metadata": {},
   "outputs": [
    {
     "data": {
      "text/latex": [
       "$\\displaystyle 6.25$"
      ],
      "text/plain": [
       "6.25"
      ]
     },
     "execution_count": 30,
     "metadata": {},
     "output_type": "execute_result"
    }
   ],
   "source": [
    "# Q2b\n",
    "# method 1\n",
    "# use a continuous RV object\n",
    "# evaluate integral for E(X)\n",
    "\n",
    "x = Symbol('x')\n",
    "y = Symbol('y', positive=True)\n",
    "\n",
    "pdf = 4*exp(-4*(y-6))\n",
    "\n",
    "Y = ContinuousRV(y, pdf, set=Interval(6, oo))\n",
    "\n",
    "Expectation(Y).doit().round(2)"
   ]
  },
  {
   "cell_type": "code",
   "execution_count": null,
   "id": "5e78d524-9ff2-42be-9c84-6066fcf58851",
   "metadata": {},
   "outputs": [],
   "source": [
    "# Q2b\n",
    "# method 1 note\n",
    "# can print out integral expression for E(X) if needed\n",
    "\n",
    "Expectation(Y).rewrite(Integral)"
   ]
  },
  {
   "cell_type": "code",
   "execution_count": null,
   "id": "6daa085b-a6fd-4c2e-bd41-849c140fa8b1",
   "metadata": {},
   "outputs": [],
   "source": [
    "# Q2b\n",
    "# method 2\n",
    "# calculate a definite integral without using RV object\n",
    "\n",
    "integrate(y*pdf, (y, 6, oo)).evalf()"
   ]
  },
  {
   "cell_type": "code",
   "execution_count": null,
   "id": "dc44e81b-82dd-4c42-adb1-248d9cd60cf7",
   "metadata": {},
   "outputs": [],
   "source": [
    "# Q2c\n",
    "# similar method to Q2b method 1\n",
    "\n",
    "x = Symbol('x')\n",
    "y = Symbol('y')\n",
    "\n",
    "pdf = 4*exp(-4*(y-6))\n",
    "\n",
    "Y = ContinuousRV(y, pdf, set=Interval(6, oo))\n",
    "\n",
    "Expectation(Y).doit().round(2)"
   ]
  },
  {
   "cell_type": "code",
   "execution_count": null,
   "id": "bb650baf-4c13-4c27-9e97-47739ca20b42",
   "metadata": {},
   "outputs": [],
   "source": [
    "# Q2d\n",
    "\n",
    "# set prob for each outcome\n",
    "# probs won't add up to 1 in the distribution due to floating pt error\n",
    "# solution: use nsimplify\n",
    "# it also makes the decimal arithmetic more accurate at the end - matches Casio calculator\n",
    "# Float('0.7', 1) worked, but still allowed inaccuracy at the end\n",
    "p1 = nsimplify(0.7)\n",
    "p2 = nsimplify(0.1)\n",
    "\n",
    "# set number of trials\n",
    "n = 6\n",
    "\n",
    "# create distribution\n",
    "X = Multinomial('M', n, p1, p2, p2, p2)\n",
    "\n",
    "# set count for each outcome\n",
    "x1 = 3\n",
    "x2 = 1\n",
    "x3 = 1\n",
    "x4 = 1\n",
    "\n",
    "# evaluate probability of that combination of counts\n",
    "# nsimplify makes density return a fraction, and density defaults to 2dp anyway\n",
    "# to solve both issues, need to use round() or .evalf()\n",
    "density(X)(x1, x2, x3, x4).evalf()"
   ]
  },
  {
   "cell_type": "code",
   "execution_count": null,
   "id": "07f91d09-bd24-4beb-8dce-99446d8db2a2",
   "metadata": {},
   "outputs": [],
   "source": [
    "# Q2e\n",
    "\n",
    "n = 12\n",
    "p = 0.4\n",
    "\n",
    "X = Binomial('X', 12, 0.4)\n",
    "\n",
    "# both of the below expressions work\n",
    "density(Eq(X, 4))\n",
    "round(density(X)(4), 3)"
   ]
  },
  {
   "cell_type": "code",
   "execution_count": 33,
   "id": "ee4b5dc6-da5b-4d89-b0ec-7e2d3185e2c4",
   "metadata": {},
   "outputs": [
    {
     "data": {
      "text/latex": [
       "$\\displaystyle - \\log{\\left(- b t + 1 \\right)}$"
      ],
      "text/plain": [
       "-log(-b*t + 1)"
      ]
     },
     "execution_count": 33,
     "metadata": {},
     "output_type": "execute_result"
    }
   ],
   "source": [
    "# Q3a\n",
    "# find cgf\n",
    "\n",
    "x = Symbol('x', positive=True)\n",
    "b = Symbol('b', positive=True)\n",
    "t = Symbol('t', positive=True)\n",
    "\n",
    "mgf = 1/(1-b*t)\n",
    "\n",
    "cgf = log(mgf)\n",
    "\n",
    "# need to use expand_log to force it to break the log into two i.e. log(a/b) = log(a) - log(b)\n",
    "expand_log(cgf, force=True)"
   ]
  },
  {
   "cell_type": "code",
   "execution_count": 34,
   "id": "33c4b83f-cae8-4a67-9237-ab0e83ddd15a",
   "metadata": {},
   "outputs": [
    {
     "data": {
      "text/latex": [
       "$\\displaystyle \\frac{b}{- b t + 1}$"
      ],
      "text/plain": [
       "b/(-b*t + 1)"
      ]
     },
     "execution_count": 34,
     "metadata": {},
     "output_type": "execute_result"
    }
   ],
   "source": [
    "# Q3b\n",
    "# first derivative of cgf\n",
    "\n",
    "Dcgf = Derivative(cgf, t).doit()\n",
    "Dcgf"
   ]
  },
  {
   "cell_type": "code",
   "execution_count": 39,
   "id": "0c6dc1a6-99eb-4aea-8828-5bc3fabcd542",
   "metadata": {},
   "outputs": [
    {
     "data": {
      "text/latex": [
       "$\\displaystyle \\frac{b^{2}}{\\left(b t - 1\\right)^{2}}$"
      ],
      "text/plain": [
       "b**2/(b*t - 1)**2"
      ]
     },
     "execution_count": 39,
     "metadata": {},
     "output_type": "execute_result"
    }
   ],
   "source": [
    "# Q3b\n",
    "# second derivative of cgf\n",
    "\n",
    "DDcgf = Derivative(cgf, t, t).doit()\n",
    "DDcgf"
   ]
  },
  {
   "cell_type": "code",
   "execution_count": 40,
   "id": "e55ddb84-df8e-476f-8da6-2023ceb53d6a",
   "metadata": {},
   "outputs": [
    {
     "data": {
      "text/latex": [
       "$\\displaystyle - \\frac{1}{\\bar{x}} + \\frac{1}{b}$"
      ],
      "text/plain": [
       "-1/xbar + 1/b"
      ]
     },
     "execution_count": 40,
     "metadata": {},
     "output_type": "execute_result"
    }
   ],
   "source": [
    "# Q3c\n",
    "# find saddlepoint t_hat\n",
    "\n",
    "xbar = Symbol('xbar')\n",
    "\n",
    "# solve() takes the LHS of eqn, assumes RHS is zero\n",
    "# returns a list, so need to use index to access the solution\n",
    "# won't separate into the two required fractions unless expand() is used\n",
    "t_hat = solve(Dcgf - xbar, t)[0].expand()\n",
    "t_hat"
   ]
  },
  {
   "cell_type": "code",
   "execution_count": 43,
   "id": "fc0e2fe4-2196-4104-ba2d-02348ba512c8",
   "metadata": {},
   "outputs": [],
   "source": [
    "# Q3d NOT MATCHED\n",
    "# first-order saddlepoint approximation\n",
    "\n",
    "n = Symbol('n', positive=True, integer=True)\n",
    "\n",
    "# sub t-hat into K(t) and K''(t)\n",
    "cgf_no_t = cgf.subs(t, t_hat).simplify()\n",
    "DDcgf_no_t = DDcgf.subs(t, t_hat).simplify()\n",
    "\n",
    "# sub K(t) and K''(t) into saddlepoint approximation formula\n",
    "# used expand() to make it break the powers of e, for easier comparison to my calc\n",
    "s_approx = powsimp(sqrt(n/(2*pi*DDcgf_no_t))*exp(n*cgf_no_t - n*t_hat), combine='all',force=True)"
   ]
  },
  {
   "cell_type": "code",
   "execution_count": 197,
   "id": "43dd2914-2c34-4c32-94f4-b3fa7d32c399",
   "metadata": {},
   "outputs": [
    {
     "data": {
      "text/latex": [
       "$\\displaystyle \\frac{\\sqrt{2} \\sqrt{n} \\sqrt{\\frac{n^{2}}{y^{2}}} e^{- \\frac{n}{b}} e^{- n \\log{\\left(b \\right)}} e^{n \\log{\\left(\\frac{y}{n} \\right)}} e^{\\frac{n n}{y}}}{2 \\sqrt{\\pi} n}$"
      ],
      "text/plain": [
       "sqrt(2)*sqrt(n)*sqrt(n**2/y**2)*exp(-n/b)*exp(-n*log(b))*exp(n*log(y/n))*exp(n*n/y)/(2*sqrt(pi)*n)"
      ]
     },
     "execution_count": 197,
     "metadata": {},
     "output_type": "execute_result"
    }
   ],
   "source": [
    "# Q3e NOT MATCHED\n",
    "# find approximate density, using saddlepoint approximation\n",
    "\n",
    "x = Symbol('x', set=Interval(0,oo))\n",
    "y = Symbol('y', set=Interval(0,oo))\n",
    "n = Symbol('n', set=Interval(0,oo))\n",
    "\n",
    "# define g^-1(y) which I've worked out by hand\n",
    "ginv = y/n\n",
    "\n",
    "# sub g^-1(y) into f(x), which is s_approx from Q3d\n",
    "fginv = s_approx.subs(xbar, ginv)\n",
    "\n",
    "# find d/dy g^-1(y)\n",
    "ddy = Derivative(ginv, y).doit()\n",
    "\n",
    "# now multiply fginv and ddy together to get f_hat(y), the approx density\n",
    "# used expand() to break the powers of e, for easier comparison to my calc\n",
    "apart(fginv * ddy, exp(x))"
   ]
  },
  {
   "cell_type": "code",
   "execution_count": null,
   "id": "ccfb9f9f-0294-4172-b313-3ac7cc0715f3",
   "metadata": {},
   "outputs": [],
   "source": [
    "# Q4a\n",
    "# plot c(theta) to show strictly monotonically increasing\n",
    "\n",
    "t = Symbol('t')\n",
    "\n",
    "c = -1/(2*t)\n",
    "\n",
    "plot(c, ylim=(-5, 5), xlim=(0, 5), adaptive=False, nb_of_points=1000)"
   ]
  },
  {
   "cell_type": "code",
   "execution_count": null,
   "id": "64756e93-52a1-4660-b989-21aa572a3ef7",
   "metadata": {},
   "outputs": [],
   "source": []
  },
  {
   "cell_type": "code",
   "execution_count": 273,
   "id": "9515ed67-fbb4-425c-b010-0cdd23516609",
   "metadata": {},
   "outputs": [
    {
     "data": {
      "text/latex": [
       "$\\displaystyle - \\frac{1}{\\beta t - 1}$"
      ],
      "text/plain": [
       "-1/(beta*t - 1)"
      ]
     },
     "execution_count": 273,
     "metadata": {},
     "output_type": "execute_result"
    }
   ],
   "source": [
    "# create MGF for custom dist\n",
    "\n",
    "from sympy.stats import E\n",
    "\n",
    "x = Symbol('x', positive=True, set=Interval(0, oo, left_open=True))\n",
    "t = Symbol('t', positive=True, set=Interval(0, oo, left_open=True))\n",
    "b = Symbol('beta', positive=True, set=Interval(0, oo, left_open=True))\n",
    "\n",
    "pdf = (1/b)*exp(-x/b)\n",
    "\n",
    "X = ContinuousRV(x, pdf, set=Interval(0, oo, left_open=True))\n",
    "\n",
    "simplify(E(exp(t*X), conds='none'))"
   ]
  },
  {
   "cell_type": "code",
   "execution_count": 275,
   "id": "af248831-026f-4554-a452-9202f0db68e4",
   "metadata": {},
   "outputs": [
    {
     "data": {
      "text/latex": [
       "$\\displaystyle - \\log{\\left(\\beta t - 1 \\right)} + i \\pi$"
      ],
      "text/plain": [
       "-log(beta*t - 1) + I*pi"
      ]
     },
     "execution_count": 275,
     "metadata": {},
     "output_type": "execute_result"
    }
   ],
   "source": [
    "expand_log(log(MGF), force=True)"
   ]
  },
  {
   "cell_type": "code",
   "execution_count": null,
   "id": "e483a3e3-1f88-4091-b79c-5b53a51a79d5",
   "metadata": {},
   "outputs": [],
   "source": []
  },
  {
   "cell_type": "code",
   "execution_count": null,
   "id": "739971dd-6b3c-4435-bcfb-b74f4c4d3f88",
   "metadata": {},
   "outputs": [],
   "source": []
  }
 ],
 "metadata": {
  "kernelspec": {
   "display_name": "Python 3 (ipykernel)",
   "language": "python",
   "name": "python3"
  },
  "language_info": {
   "codemirror_mode": {
    "name": "ipython",
    "version": 3
   },
   "file_extension": ".py",
   "mimetype": "text/x-python",
   "name": "python",
   "nbconvert_exporter": "python",
   "pygments_lexer": "ipython3",
   "version": "3.10.4"
  }
 },
 "nbformat": 4,
 "nbformat_minor": 5
}
