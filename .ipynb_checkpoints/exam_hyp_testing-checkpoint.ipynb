{
 "cells": [
  {
   "cell_type": "markdown",
   "id": "15dd4b02-d427-4530-97fe-f9f18a06c2d1",
   "metadata": {},
   "source": [
    "## Hypothesis Testing ##"
   ]
  },
  {
   "cell_type": "code",
   "execution_count": null,
   "id": "21d78e13-29ba-476f-bee9-79a8ab9af7a6",
   "metadata": {},
   "outputs": [],
   "source": []
  },
  {
   "cell_type": "code",
   "execution_count": null,
   "id": "4d7c6ed8-ccc5-4697-8a72-17cbcd798fe4",
   "metadata": {},
   "outputs": [],
   "source": []
  }
 ],
 "metadata": {
  "kernelspec": {
   "display_name": "Python 3 (ipykernel)",
   "language": "python",
   "name": "python3"
  },
  "language_info": {
   "codemirror_mode": {
    "name": "ipython",
    "version": 3
   },
   "file_extension": ".py",
   "mimetype": "text/x-python",
   "name": "python",
   "nbconvert_exporter": "python",
   "pygments_lexer": "ipython3",
   "version": "3.10.4"
  }
 },
 "nbformat": 4,
 "nbformat_minor": 5
}
