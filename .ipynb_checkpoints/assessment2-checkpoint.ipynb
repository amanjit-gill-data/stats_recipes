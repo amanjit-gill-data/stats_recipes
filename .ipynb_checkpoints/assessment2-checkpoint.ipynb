{
 "cells": [
  {
   "cell_type": "code",
   "execution_count": 1,
   "id": "cbe9b437-a598-4a32-8f63-36b292cbfb26",
   "metadata": {},
   "outputs": [],
   "source": [
    "from sympy import *\n",
    "from sympy.stats import *\n",
    "from sympy.functions.combinatorial.numbers import *\n"
   ]
  },
  {
   "cell_type": "code",
   "execution_count": 2,
   "id": "68f6cc63-1d3e-4b0e-9630-dc6f6def13ca",
   "metadata": {},
   "outputs": [],
   "source": [
    "x = Symbol('x', integer=True, positive=True)\n",
    "t = Symbol('t', integer=True)\n",
    "p = Symbol('p', domain=(0,1))\n",
    "n = Symbol('n', integer=True, positive=True)\n",
    "\n",
    "i = Symbol('i', integer=True, positive=True)\n",
    "j = Dummy('j', integer=True, positive=True)"
   ]
  },
  {
   "cell_type": "code",
   "execution_count": 100,
   "id": "d3eb3617-3612-4f40-973d-368ace18ce07",
   "metadata": {},
   "outputs": [
    {
     "data": {
      "text/latex": [
       "$\\displaystyle 1 - \\operatorname{E}\\left[B\\right]$"
      ],
      "text/plain": [
       "1 - Expectation(B, False)"
      ]
     },
     "execution_count": 100,
     "metadata": {},
     "output_type": "execute_result"
    }
   ],
   "source": [
    "# generate list of iid random variables\n",
    "\n",
    "#p = 0.5\n",
    "#n = 5\n",
    "\n",
    "T = NegativeBinomial('T', n, p)\n",
    "\n",
    "B = Bernoulli('B', p, succ=0, fail=1)\n",
    "\n",
    "X = [B for i in range(0,5)]\n",
    "\n",
    "#xDist = DiscreteDistributionHandmade(p*(1-p)**x, set=S.Integers)\n",
    "#xN = DiscreteDistributionHandmade(x1dist, set=S.Integers)\n",
    "\n",
    "W = 1 - X[0]\n",
    "\n",
    "expand(Expectation(W, summation(B, (i, 1, n)) == t, evaluate=False))"
   ]
  },
  {
   "cell_type": "code",
   "execution_count": 152,
   "id": "16eda181-6e03-4880-9193-104a7736699b",
   "metadata": {},
   "outputs": [
    {
     "data": {
      "text/latex": [
       "$\\displaystyle \\frac{d^{2}}{d p^{2}} \\log{\\left(p \\left(1 - p\\right)^{x} \\right)}$"
      ],
      "text/plain": [
       "Derivative(log(p*(1 - p)**x), (p, 2))"
      ]
     },
     "execution_count": 152,
     "metadata": {},
     "output_type": "execute_result"
    }
   ],
   "source": [
    "ans = Derivative(log(p*(1-p)**x), p, 2)\n",
    "ans"
   ]
  },
  {
   "cell_type": "code",
   "execution_count": 182,
   "id": "031ad9aa-a613-4011-827d-9f00d25521ed",
   "metadata": {},
   "outputs": [
    {
     "data": {
      "text/latex": [
       "$\\displaystyle \\frac{1 - p}{p^{2} - 2 p + 1} + \\frac{1}{p^{2}}$"
      ],
      "text/plain": [
       "(1 - p)/(p**2 - 2*p + 1) + p**(-2)"
      ]
     },
     "execution_count": 182,
     "metadata": {},
     "output_type": "execute_result"
    }
   ],
   "source": [
    "-Expectation(ans, x).doit().expand().subs(x,1-p)"
   ]
  },
  {
   "cell_type": "code",
   "execution_count": 185,
   "id": "8857b710-4b15-4ad1-aa44-d00fcb2e6cd4",
   "metadata": {},
   "outputs": [
    {
     "data": {
      "text/latex": [
       "$\\displaystyle \\left(p \\left(1 - p\\right)^{x}\\right)^{n}$"
      ],
      "text/plain": [
       "(p*(1 - p)**x)**n"
      ]
     },
     "execution_count": 185,
     "metadata": {},
     "output_type": "execute_result"
    }
   ],
   "source": [
    "f = p*(1-p)**x\n",
    "product(f, (i, 1, n))"
   ]
  },
  {
   "cell_type": "code",
   "execution_count": 187,
   "id": "bff84c30-27dd-469c-8cd3-f5ab1606e9f1",
   "metadata": {},
   "outputs": [],
   "source": [
    "from scipy import stats"
   ]
  },
  {
   "cell_type": "code",
   "execution_count": null,
   "id": "25f0b334-d157-4485-9e05-98017835474a",
   "metadata": {},
   "outputs": [],
   "source": []
  },
  {
   "cell_type": "code",
   "execution_count": null,
   "id": "c3d36563-3d37-405d-bdee-c16c4a6b42f4",
   "metadata": {},
   "outputs": [],
   "source": []
  },
  {
   "cell_type": "code",
   "execution_count": null,
   "id": "cbeceb55-fcea-438b-ae36-a1f812fb14b1",
   "metadata": {},
   "outputs": [],
   "source": []
  },
  {
   "cell_type": "code",
   "execution_count": null,
   "id": "ebb68a71-a658-4559-b67c-7b95392d66e4",
   "metadata": {},
   "outputs": [],
   "source": []
  },
  {
   "cell_type": "code",
   "execution_count": null,
   "id": "94ca5e7d-dc20-46a6-acd7-2925ddbf81be",
   "metadata": {},
   "outputs": [],
   "source": []
  }
 ],
 "metadata": {
  "kernelspec": {
   "display_name": "Python 3 (ipykernel)",
   "language": "python",
   "name": "python3"
  },
  "language_info": {
   "codemirror_mode": {
    "name": "ipython",
    "version": 3
   },
   "file_extension": ".py",
   "mimetype": "text/x-python",
   "name": "python",
   "nbconvert_exporter": "python",
   "pygments_lexer": "ipython3",
   "version": "3.10.4"
  }
 },
 "nbformat": 4,
 "nbformat_minor": 5
}
