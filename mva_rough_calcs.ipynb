{
 "cells": [
  {
   "cell_type": "code",
   "execution_count": 4,
   "id": "a12d9b40-de22-4963-9c14-dc0bf3231a94",
   "metadata": {},
   "outputs": [],
   "source": [
    "from sympy import *"
   ]
  },
  {
   "cell_type": "code",
   "execution_count": 5,
   "id": "c8042c94-66d2-48b6-8017-23b3d4aa3e0d",
   "metadata": {},
   "outputs": [],
   "source": [
    "x, p = symbols('x p')"
   ]
  },
  {
   "cell_type": "code",
   "execution_count": 8,
   "id": "4dad2417-aa56-4d06-8315-928698f514c4",
   "metadata": {},
   "outputs": [
    {
     "data": {
      "text/latex": [
       "$\\displaystyle \\left[\\begin{matrix}1 & \\frac{p}{2} & 0\\\\\\frac{p}{2} & 1 & p\\\\0 & p & 1\\end{matrix}\\right]$"
      ],
      "text/plain": [
       "Matrix([\n",
       "[  1, p/2, 0],\n",
       "[p/2,   1, p],\n",
       "[  0,   p, 1]])"
      ]
     },
     "execution_count": 8,
     "metadata": {},
     "output_type": "execute_result"
    }
   ],
   "source": [
    "Sigma = Matrix([[1, p/2, 0],[p/2, 1, p], [0, p, 1]])\n",
    "Sigma"
   ]
  },
  {
   "cell_type": "code",
   "execution_count": 10,
   "id": "1ad63b67-f937-4822-a421-29df9f0046ca",
   "metadata": {},
   "outputs": [
    {
     "data": {
      "text/latex": [
       "$\\displaystyle \\left[\\begin{matrix}\\frac{\\sqrt{10}}{10}\\\\\\frac{\\sqrt{2}}{2}\\\\\\frac{\\sqrt{10}}{5}\\end{matrix}\\right]$"
      ],
      "text/plain": [
       "Matrix([\n",
       "[sqrt(10)/10],\n",
       "[  sqrt(2)/2],\n",
       "[ sqrt(10)/5]])"
      ]
     },
     "execution_count": 10,
     "metadata": {},
     "output_type": "execute_result"
    }
   ],
   "source": [
    "alpha = Matrix([1/sqrt(10), 1/sqrt(2), 2/sqrt(10)])\n",
    "alpha"
   ]
  },
  {
   "cell_type": "code",
   "execution_count": 13,
   "id": "76c98d57-6376-4dfc-ab12-4e1cae06e1da",
   "metadata": {},
   "outputs": [
    {
     "data": {
      "text/latex": [
       "$\\displaystyle \\left[\\begin{matrix}\\frac{\\sqrt{5} p}{2} + 1\\end{matrix}\\right]$"
      ],
      "text/plain": [
       "Matrix([[sqrt(5)*p/2 + 1]])"
      ]
     },
     "execution_count": 13,
     "metadata": {},
     "output_type": "execute_result"
    }
   ],
   "source": [
    "simplify(transpose(alpha) * Sigma * alpha)"
   ]
  },
  {
   "cell_type": "code",
   "execution_count": 14,
   "id": "5e2d302d-fec2-416b-8f47-76685c5d1cfd",
   "metadata": {},
   "outputs": [
    {
     "data": {
      "text/latex": [
       "$\\displaystyle \\left[\\begin{matrix}1 & 0 & 0\\\\0 & 1 & 0\\\\1 & 1 & 1\\end{matrix}\\right]$"
      ],
      "text/plain": [
       "Matrix([\n",
       "[1, 0, 0],\n",
       "[0, 1, 0],\n",
       "[1, 1, 1]])"
      ]
     },
     "execution_count": 14,
     "metadata": {},
     "output_type": "execute_result"
    }
   ],
   "source": [
    "A = Matrix([[1, 0, 0],[0, 1, 0], [1, 1, 1]])\n",
    "A"
   ]
  },
  {
   "cell_type": "code",
   "execution_count": 15,
   "id": "bd1e3f2a-c245-4822-afef-707a505b99bf",
   "metadata": {},
   "outputs": [
    {
     "data": {
      "text/latex": [
       "$\\displaystyle \\left[\\begin{matrix}1 & \\frac{p}{2} & \\frac{p}{2} + 1\\\\\\frac{p}{2} & 1 & \\frac{3 p}{2} + 1\\\\\\frac{p}{2} + 1 & \\frac{3 p}{2} + 1 & 3 p + 3\\end{matrix}\\right]$"
      ],
      "text/plain": [
       "Matrix([\n",
       "[      1,       p/2,   p/2 + 1],\n",
       "[    p/2,         1, 3*p/2 + 1],\n",
       "[p/2 + 1, 3*p/2 + 1,   3*p + 3]])"
      ]
     },
     "execution_count": 15,
     "metadata": {},
     "output_type": "execute_result"
    }
   ],
   "source": [
    "A * Sigma * transpose(A)"
   ]
  },
  {
   "cell_type": "code",
   "execution_count": 26,
   "id": "c8a191eb-76bf-4a74-a192-8929bce2d093",
   "metadata": {},
   "outputs": [],
   "source": [
    "Sig11 = Matrix([[1, p/2],[p/2, 1]])\n",
    "Sig12 = Matrix([0, p])\n",
    "Sig21 = Matrix([[0, p]])\n",
    "Sig22 = 1"
   ]
  },
  {
   "cell_type": "code",
   "execution_count": 27,
   "id": "fdf21a3d-bd11-4582-b752-1e3825bf67f5",
   "metadata": {},
   "outputs": [
    {
     "data": {
      "text/latex": [
       "$\\displaystyle \\left[\\begin{matrix}0\\\\p\\end{matrix}\\right]$"
      ],
      "text/plain": [
       "Matrix([\n",
       "[0],\n",
       "[p]])"
      ]
     },
     "execution_count": 27,
     "metadata": {},
     "output_type": "execute_result"
    }
   ],
   "source": [
    "Sig12 * (Sig22)**-1"
   ]
  },
  {
   "cell_type": "code",
   "execution_count": 28,
   "id": "47a4d1ea-6fc5-429a-9d3c-518b91650d54",
   "metadata": {},
   "outputs": [
    {
     "data": {
      "text/latex": [
       "$\\displaystyle \\left[\\begin{matrix}1 & \\frac{p}{2}\\\\\\frac{p}{2} & 1 - p^{2}\\end{matrix}\\right]$"
      ],
      "text/plain": [
       "Matrix([\n",
       "[  1,      p/2],\n",
       "[p/2, 1 - p**2]])"
      ]
     },
     "execution_count": 28,
     "metadata": {},
     "output_type": "execute_result"
    }
   ],
   "source": [
    "Sig11 - Sig12 * Sig22**-1 * Sig21"
   ]
  },
  {
   "cell_type": "code",
   "execution_count": 30,
   "id": "9d974d15-beff-4eaa-bc55-b109481363a1",
   "metadata": {},
   "outputs": [
    {
     "data": {
      "text/latex": [
       "$\\displaystyle \\left[\\begin{matrix}1 & \\frac{p}{2}\\\\\\frac{p}{2} & 1\\end{matrix}\\right]$"
      ],
      "text/plain": [
       "Matrix([\n",
       "[  1, p/2],\n",
       "[p/2,   1]])"
      ]
     },
     "execution_count": 30,
     "metadata": {},
     "output_type": "execute_result"
    }
   ],
   "source": [
    "C = Matrix([[1, p/2], [p/2, 1]])\n",
    "C"
   ]
  },
  {
   "cell_type": "code",
   "execution_count": 36,
   "id": "65f024b6-0a1c-4b4a-8df1-0aaed5826589",
   "metadata": {},
   "outputs": [
    {
     "data": {
      "text/latex": [
       "$\\displaystyle \\left[\\begin{matrix}0\\\\p\\end{matrix}\\right]$"
      ],
      "text/plain": [
       "Matrix([\n",
       "[0],\n",
       "[p]])"
      ]
     },
     "execution_count": 36,
     "metadata": {},
     "output_type": "execute_result"
    }
   ],
   "source": [
    "sig0 = Matrix([[0], [p]])\n",
    "sig0"
   ]
  },
  {
   "cell_type": "code",
   "execution_count": 40,
   "id": "997c3712-f72f-4ad9-823a-69b2c6c4c0df",
   "metadata": {},
   "outputs": [
    {
     "data": {
      "text/latex": [
       "$\\displaystyle \\left(\\left[\\begin{matrix}\\frac{p^{2}}{1 - \\frac{p^{2}}{4}}\\end{matrix}\\right]\\right)^{\\frac{1}{2}}$"
      ],
      "text/plain": [
       "Matrix([[p**2/(1 - p**2/4)]])**(1/2)"
      ]
     },
     "execution_count": 40,
     "metadata": {},
     "output_type": "execute_result"
    }
   ],
   "source": [
    "sqrt(transpose(sig0) * C**-1 * sig0)"
   ]
  },
  {
   "cell_type": "code",
   "execution_count": null,
   "id": "86171d87-b661-426b-87a6-e7ce7dbf5d61",
   "metadata": {},
   "outputs": [],
   "source": []
  },
  {
   "cell_type": "code",
   "execution_count": null,
   "id": "24e751c3-e9e3-46ef-ab3a-c4e26dc8b54e",
   "metadata": {},
   "outputs": [],
   "source": []
  }
 ],
 "metadata": {
  "kernelspec": {
   "display_name": "Python 3 (ipykernel)",
   "language": "python",
   "name": "python3"
  },
  "language_info": {
   "codemirror_mode": {
    "name": "ipython",
    "version": 3
   },
   "file_extension": ".py",
   "mimetype": "text/x-python",
   "name": "python",
   "nbconvert_exporter": "python",
   "pygments_lexer": "ipython3",
   "version": "3.10.4"
  }
 },
 "nbformat": 4,
 "nbformat_minor": 5
}
