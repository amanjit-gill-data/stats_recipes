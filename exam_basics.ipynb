{
 "cells": [
  {
   "cell_type": "markdown",
   "id": "96737378-ee9d-4560-878a-530da18b809b",
   "metadata": {
    "tags": []
   },
   "source": [
    "# Basic Calculations #"
   ]
  },
  {
   "cell_type": "markdown",
   "id": "504aaf8e-9ff5-411d-916a-496e68220daa",
   "metadata": {
    "jp-MarkdownHeadingCollapsed": true,
    "tags": []
   },
   "source": [
    "### Expected Value, Variance and Moments ###"
   ]
  },
  {
   "cell_type": "code",
   "execution_count": 97,
   "id": "11305eea-3460-4ee2-b7c8-fd9a3520b64d",
   "metadata": {},
   "outputs": [],
   "source": [
    "%reset -f\n",
    "\n",
    "from sympy import *\n",
    "from sympy.stats import *\n",
    "from sympy.functions import *\n",
    "from sympy.integrals import *"
   ]
  },
  {
   "cell_type": "code",
   "execution_count": 98,
   "id": "5341b011-735a-421e-b1a5-8ac41318b4ff",
   "metadata": {},
   "outputs": [],
   "source": [
    "# Symbols\n",
    "\n",
    "theta = Symbol('theta', positive=True)\n",
    "x = Symbol('x', positive=True)\n",
    "n = Symbol('n', positive=True)\n",
    "t = Symbol('t', positive=True)"
   ]
  },
  {
   "cell_type": "code",
   "execution_count": 99,
   "id": "b7086081-c7df-4ab3-84ad-3f5167d8437b",
   "metadata": {},
   "outputs": [
    {
     "data": {
      "text/latex": [
       "$\\displaystyle \\theta e^{\\left(\\theta - 1\\right) \\log{\\left(x \\right)}}$"
      ],
      "text/plain": [
       "theta*exp((theta - 1)*log(x))"
      ]
     },
     "execution_count": 99,
     "metadata": {},
     "output_type": "execute_result"
    }
   ],
   "source": [
    "# density\n",
    "\n",
    "pdf = theta*exp((theta-1)*log(x))\n",
    "pdf"
   ]
  },
  {
   "cell_type": "code",
   "execution_count": 100,
   "id": "e8603708-53fe-4fc0-b66c-cdf299a992fa",
   "metadata": {},
   "outputs": [
    {
     "data": {
      "text/latex": [
       "$\\displaystyle \\frac{\\theta}{\\theta + 1}$"
      ],
      "text/plain": [
       "theta/(theta + 1)"
      ]
     },
     "execution_count": 100,
     "metadata": {},
     "output_type": "execute_result"
    }
   ],
   "source": [
    "# MUST RUN BEFORE VARIANCE/MOMENTS\n",
    "# expected value\n",
    "# also works for g(x)\n",
    "\n",
    "def expected_value(of, pdf, wrt, lower, upper):\n",
    "    return integrate(of*pdf, (wrt, lower, upper), conds='none').doit()\n",
    "\n",
    "# what you're finding expected value of i.e. x, 1/x, x**2, etc\n",
    "of = x\n",
    "\n",
    "# define variable and bounds\n",
    "wrt = x\n",
    "lower = 0\n",
    "upper = 1\n",
    "\n",
    "exp_val = expected_value(of, pdf, wrt, lower, upper)\n",
    "exp_val = simplify(exp_val)\n",
    "exp_val"
   ]
  },
  {
   "cell_type": "code",
   "execution_count": 101,
   "id": "d4a1a0c8-92ea-47f1-8357-34c2f5c3159f",
   "metadata": {},
   "outputs": [
    {
     "data": {
      "text/latex": [
       "$\\displaystyle \\frac{\\theta}{\\theta^{3} + 4 \\theta^{2} + 5 \\theta + 2}$"
      ],
      "text/plain": [
       "theta/(theta**3 + 4*theta**2 + 5*theta + 2)"
      ]
     },
     "execution_count": 101,
     "metadata": {},
     "output_type": "execute_result"
    }
   ],
   "source": [
    "# variance\n",
    "\n",
    "variance = expected_value(x**2, pdf, wrt, lower, upper) - exp_val**2\n",
    "variance = simplify(variance)\n",
    "variance"
   ]
  },
  {
   "cell_type": "code",
   "execution_count": 102,
   "id": "2d788a44-2045-43ef-bd94-e762a758a989",
   "metadata": {},
   "outputs": [
    {
     "data": {
      "text/latex": [
       "$\\displaystyle \\frac{\\theta}{\\theta + 3}$"
      ],
      "text/plain": [
       "theta/(theta + 3)"
      ]
     },
     "execution_count": 102,
     "metadata": {},
     "output_type": "execute_result"
    }
   ],
   "source": [
    "# rth raw moment\n",
    "\n",
    "r = 3\n",
    "\n",
    "raw_moment = expected_value(x**r, pdf, wrt, lower, upper)\n",
    "raw_moment = simplify(raw_moment)\n",
    "raw_moment"
   ]
  },
  {
   "cell_type": "code",
   "execution_count": 104,
   "id": "bd215c33-d6b2-478e-8477-93f93345def1",
   "metadata": {},
   "outputs": [
    {
     "data": {
      "text/latex": [
       "$\\displaystyle \\frac{\\theta x^{\\theta} \\left(- 2 \\theta x \\left(\\theta + 2\\right) + \\theta \\left(\\theta + 2\\right) + x^{2} \\left(\\theta^{2} + 2 \\theta + 1\\right)\\right)}{\\left(\\theta + 1\\right)^{2} \\left(\\theta + 2\\right)}$"
      ],
      "text/plain": [
       "theta*x**theta*(-2*theta*x*(theta + 2) + theta*(theta + 2) + x**2*(theta**2 + 2*theta + 1))/((theta + 1)**2*(theta + 2))"
      ]
     },
     "execution_count": 104,
     "metadata": {},
     "output_type": "execute_result"
    }
   ],
   "source": [
    "# rth central moment\n",
    "# uses the risch algorithm to allow integration by parts\n",
    "\n",
    "r = 2\n",
    "\n",
    "expr = ((x - exp_val)**r)*pdf\n",
    "cent_moment = integrate(expr, x, risch=True, conds='none').doit()\n",
    "cent_moment = simplify(cent_moment)\n",
    "cent_moment"
   ]
  },
  {
   "cell_type": "code",
   "execution_count": null,
   "id": "93a0febc-862e-49a6-83a2-c6c27505a0f8",
   "metadata": {},
   "outputs": [],
   "source": []
  },
  {
   "cell_type": "markdown",
   "id": "2904d2b2-1dfd-46b1-9080-db5dfbef8006",
   "metadata": {
    "jp-MarkdownHeadingCollapsed": true,
    "tags": []
   },
   "source": [
    "### Calculus ###"
   ]
  },
  {
   "cell_type": "code",
   "execution_count": 105,
   "id": "b39a4d8a-e97d-4fa2-8404-b57d8c91616c",
   "metadata": {},
   "outputs": [],
   "source": [
    "%reset -f\n",
    "\n",
    "from sympy import *\n",
    "from sympy.stats import *\n",
    "from sympy.functions.combinatorial.numbers import *"
   ]
  },
  {
   "cell_type": "code",
   "execution_count": 106,
   "id": "8c3578aa-e6b4-4b35-b6a6-a8e761e1f322",
   "metadata": {},
   "outputs": [],
   "source": [
    "# Symbols\n",
    "\n",
    "theta = Symbol('theta', positive=True)\n",
    "x = Symbol('x', positive=True)\n",
    "n = Symbol('n', positive=True)\n",
    "t = Symbol('t', positive=True)"
   ]
  },
  {
   "cell_type": "code",
   "execution_count": 107,
   "id": "e1e3851a-134a-4a31-b0b0-3b8601548376",
   "metadata": {},
   "outputs": [
    {
     "data": {
      "text/latex": [
       "$\\displaystyle \\frac{\\theta}{\\theta + 1}$"
      ],
      "text/plain": [
       "theta/(theta + 1)"
      ]
     },
     "execution_count": 107,
     "metadata": {},
     "output_type": "execute_result"
    }
   ],
   "source": [
    "# define function\n",
    "\n",
    "f = theta/(1+theta)\n",
    "f"
   ]
  },
  {
   "cell_type": "markdown",
   "id": "cdeaccda-6da9-43a1-a185-97381e91d361",
   "metadata": {
    "jp-MarkdownHeadingCollapsed": true,
    "tags": []
   },
   "source": [
    "#### Derivatives ####"
   ]
  },
  {
   "cell_type": "code",
   "execution_count": 83,
   "id": "9f8c2d43-cab5-4d96-b71b-7627bcf210a1",
   "metadata": {},
   "outputs": [
    {
     "data": {
      "text/latex": [
       "$\\displaystyle - \\frac{\\theta}{\\left(\\theta + 1\\right)^{2}} + \\frac{1}{\\theta + 1}$"
      ],
      "text/plain": [
       "-theta/(theta + 1)**2 + 1/(theta + 1)"
      ]
     },
     "execution_count": 83,
     "metadata": {},
     "output_type": "execute_result"
    }
   ],
   "source": [
    "# first derivative of f\n",
    "\n",
    "wrt = theta\n",
    "diff1 = diff(f, wrt)\n",
    "diff1"
   ]
  },
  {
   "cell_type": "code",
   "execution_count": 84,
   "id": "a11c60f8-fdc9-40b0-8e75-44010708a2b9",
   "metadata": {},
   "outputs": [
    {
     "data": {
      "text/latex": [
       "$\\displaystyle \\frac{2 \\theta}{\\left(\\theta + 1\\right)^{3}} - \\frac{2}{\\left(\\theta + 1\\right)^{2}}$"
      ],
      "text/plain": [
       "2*theta/(theta + 1)**3 - 2/(theta + 1)**2"
      ]
     },
     "execution_count": 84,
     "metadata": {},
     "output_type": "execute_result"
    }
   ],
   "source": [
    "# second derivative of f\n",
    "\n",
    "wrt = theta\n",
    "diff2 = diff(diff1, wrt)\n",
    "diff2"
   ]
  },
  {
   "cell_type": "code",
   "execution_count": 85,
   "id": "2542b169-3c87-4b2a-8329-3c64dfa18440",
   "metadata": {},
   "outputs": [
    {
     "data": {
      "text/latex": [
       "$\\displaystyle \\frac{1}{\\left(\\theta + 1\\right)^{4}}$"
      ],
      "text/plain": [
       "(theta + 1)**(-4)"
      ]
     },
     "execution_count": 85,
     "metadata": {},
     "output_type": "execute_result"
    }
   ],
   "source": [
    "# any other operations\n",
    "\n",
    "simplify(diff1**2)"
   ]
  },
  {
   "cell_type": "markdown",
   "id": "3cbb371d-04f0-4ee8-91b7-ddd9ede74f68",
   "metadata": {
    "jp-MarkdownHeadingCollapsed": true,
    "tags": []
   },
   "source": [
    "#### Integrals ####"
   ]
  },
  {
   "cell_type": "code",
   "execution_count": 108,
   "id": "7614607b-b6f8-4ae4-9fb5-b59c05cadf92",
   "metadata": {},
   "outputs": [
    {
     "data": {
      "text/latex": [
       "$\\displaystyle \\theta - \\log{\\left(\\theta + 1 \\right)}$"
      ],
      "text/plain": [
       "theta - log(theta + 1)"
      ]
     },
     "execution_count": 108,
     "metadata": {},
     "output_type": "execute_result"
    }
   ],
   "source": [
    "# indefinite integral of f\n",
    "# automatically has the risch algorithm available in case of integration by parts\n",
    "\n",
    "wrt = theta\n",
    "integrate(f, theta, conds='none', risch=True)"
   ]
  },
  {
   "cell_type": "code",
   "execution_count": 109,
   "id": "d4f57f49-2dad-4f24-94be-1887e8508613",
   "metadata": {},
   "outputs": [
    {
     "data": {
      "text/latex": [
       "$\\displaystyle \\infty$"
      ],
      "text/plain": [
       "oo"
      ]
     },
     "execution_count": 109,
     "metadata": {},
     "output_type": "execute_result"
    }
   ],
   "source": [
    "# definite integral of f\n",
    "\n",
    "wrt = theta\n",
    "lower = 0\n",
    "upper = oo\n",
    "\n",
    "integrate(f, (theta, lower, upper), conds='none')"
   ]
  },
  {
   "cell_type": "code",
   "execution_count": null,
   "id": "1fdc2df6-5672-4895-89b6-399feb3131dc",
   "metadata": {},
   "outputs": [],
   "source": []
  }
 ],
 "metadata": {
  "kernelspec": {
   "display_name": "Python 3 (ipykernel)",
   "language": "python",
   "name": "python3"
  },
  "language_info": {
   "codemirror_mode": {
    "name": "ipython",
    "version": 3
   },
   "file_extension": ".py",
   "mimetype": "text/x-python",
   "name": "python",
   "nbconvert_exporter": "python",
   "pygments_lexer": "ipython3",
   "version": "3.10.4"
  }
 },
 "nbformat": 4,
 "nbformat_minor": 5
}
