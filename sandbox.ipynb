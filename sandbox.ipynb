{
 "cells": [
  {
   "cell_type": "code",
   "execution_count": 1,
   "id": "3e56c6fa-4695-45a2-870d-8c71d8ea6a7f",
   "metadata": {},
   "outputs": [],
   "source": [
    "from sympy import symbols"
   ]
  },
  {
   "cell_type": "code",
   "execution_count": 2,
   "id": "2f1aee50-dbf3-4e24-acb1-97ca3f15bbd6",
   "metadata": {},
   "outputs": [
    {
     "data": {
      "text/latex": [
       "$\\displaystyle \\frac{- p x + \\left(p - 1\\right) \\left(- p x - p + 1\\right)}{p^{2} \\left(p - 1\\right)^{2}}$"
      ],
      "text/plain": [
       "(-p*x + (p - 1)*(-p*x - p + 1))/(p**2*(p - 1)**2)"
      ]
     },
     "execution_count": 2,
     "metadata": {},
     "output_type": "execute_result"
    }
   ],
   "source": [
    "from sympy import *\n",
    "from sympy.stats import *\n",
    "\n",
    "x, p = symbols('x p')\n",
    "\n",
    "likelihood = p*((1-p)**x)\n",
    "\n",
    "simplify(Derivative(ln(likelihood), p,p).doit())"
   ]
  },
  {
   "cell_type": "code",
   "execution_count": 49,
   "id": "974e2eec-dfda-4c66-8bc4-2331b01292d6",
   "metadata": {},
   "outputs": [
    {
     "data": {
      "text/latex": [
       "$\\displaystyle - \\frac{1}{p^{2}}$"
      ],
      "text/plain": [
       "-1/p**2"
      ]
     },
     "execution_count": 49,
     "metadata": {},
     "output_type": "execute_result"
    }
   ],
   "source": [
    "Derivative(1/p, p).doit()"
   ]
  },
  {
   "cell_type": "code",
   "execution_count": 73,
   "id": "215f36b4-68e0-4142-81f9-2752c1b1963d",
   "metadata": {},
   "outputs": [],
   "source": [
    "from sympy.stats import E\n",
    "\n",
    "expval = -E(simplify(Derivative(ln(likelihood), p,p).doit()), x)"
   ]
  },
  {
   "cell_type": "code",
   "execution_count": 74,
   "id": "c96b3686-c695-4a3b-9d52-4f6b61250d90",
   "metadata": {},
   "outputs": [
    {
     "data": {
      "text/latex": [
       "$\\displaystyle - \\frac{- p x + \\left(p - 1\\right) \\left(- p x - p + 1\\right)}{p^{2} \\left(p - 1\\right)^{2}}$"
      ],
      "text/plain": [
       "-(-p*x + (p - 1)*(-p*x - p + 1))/(p**2*(p - 1)**2)"
      ]
     },
     "execution_count": 74,
     "metadata": {},
     "output_type": "execute_result"
    }
   ],
   "source": [
    "expval"
   ]
  },
  {
   "cell_type": "code",
   "execution_count": 75,
   "id": "df3428aa-ba21-4684-acd2-a7e3d6af551a",
   "metadata": {},
   "outputs": [
    {
     "data": {
      "text/latex": [
       "$\\displaystyle - p^{2} \\left(p - 1\\right)$"
      ],
      "text/plain": [
       "-p**2*(p - 1)"
      ]
     },
     "execution_count": 75,
     "metadata": {},
     "output_type": "execute_result"
    }
   ],
   "source": [
    "((expval.subs(x, (1-p)/p))**(-1)).doit()"
   ]
  },
  {
   "cell_type": "code",
   "execution_count": 59,
   "id": "f9dd485f-581c-4d89-a7fc-468978556ad4",
   "metadata": {},
   "outputs": [
    {
     "data": {
      "text/latex": [
       "$\\displaystyle \\frac{p x + \\left(p - 1\\right) \\left(p x + p - 1\\right)}{p^{2} \\left(p - 1\\right)^{2}}$"
      ],
      "text/plain": [
       "(p*x + (p - 1)*(p*x + p - 1))/(p**2*(p - 1)**2)"
      ]
     },
     "execution_count": 59,
     "metadata": {},
     "output_type": "execute_result"
    }
   ],
   "source": [
    "simplify(expval).doit()"
   ]
  },
  {
   "cell_type": "code",
   "execution_count": 63,
   "id": "bf52ad5c-6888-458f-a385-c790655a0797",
   "metadata": {},
   "outputs": [
    {
     "data": {
      "text/latex": [
       "$\\displaystyle \\frac{x}{p - 1} + \\frac{1}{p}$"
      ],
      "text/plain": [
       "x/(p - 1) + 1/p"
      ]
     },
     "execution_count": 63,
     "metadata": {},
     "output_type": "execute_result"
    }
   ],
   "source": [
    "simplify(Derivative(ln(likelihood), p).doit())"
   ]
  },
  {
   "cell_type": "code",
   "execution_count": 67,
   "id": "9180b65e-e4b3-4f3f-910b-dd387b3955bd",
   "metadata": {},
   "outputs": [
    {
     "data": {
      "text/latex": [
       "$\\displaystyle - \\frac{x}{\\left(p - 1\\right)^{2}}$"
      ],
      "text/plain": [
       "-x/(p - 1)**2"
      ]
     },
     "execution_count": 67,
     "metadata": {},
     "output_type": "execute_result"
    }
   ],
   "source": [
    "Derivative(x/(p-1), p).doit()"
   ]
  },
  {
   "cell_type": "code",
   "execution_count": 28,
   "id": "f5c55d39-b413-42ab-bcca-c4c57dd6ebb3",
   "metadata": {},
   "outputs": [
    {
     "data": {
      "text/latex": [
       "$\\displaystyle \\lambda$"
      ],
      "text/plain": [
       "lambda"
      ]
     },
     "execution_count": 28,
     "metadata": {},
     "output_type": "execute_result"
    }
   ],
   "source": [
    "lam = Symbol('lambda', positive=True)\n",
    "x = Symbol('x', positive=True)\n",
    "\n",
    "simplify(Integral(x*exp(-x/lam)/lam, (x, 0, oo)))"
   ]
  },
  {
   "cell_type": "code",
   "execution_count": 8,
   "id": "7f57d33e-6b72-4284-9c12-84b1237b77b0",
   "metadata": {},
   "outputs": [
    {
     "data": {
      "text/latex": [
       "$\\displaystyle 55$"
      ],
      "text/plain": [
       "55"
      ]
     },
     "execution_count": 8,
     "metadata": {},
     "output_type": "execute_result"
    }
   ],
   "source": [
    "summation(x, (x, 1, 10))\n"
   ]
  },
  {
   "cell_type": "code",
   "execution_count": null,
   "id": "2e27c160-91ec-4739-b509-82feca32c89c",
   "metadata": {},
   "outputs": [],
   "source": [
    "# EXPERIMENTAL GRAPHING\n",
    "\n",
    "x = Symbol('x')\n",
    "y = Symbol('y')\n",
    "p = Symbol('p')\n",
    "\n",
    "plot(3/(x**4), ylim=(0, 5000), xlim=(0, 2), adaptive=False, nb_of_points=1000)"
   ]
  },
  {
   "cell_type": "code",
   "execution_count": null,
   "id": "853580eb-d381-4514-a682-ac16841a7d68",
   "metadata": {},
   "outputs": [],
   "source": [
    "# EXPERIMENTAL GRAPHING\n",
    "\n",
    "plot_implicit(y > x+3)"
   ]
  },
  {
   "cell_type": "code",
   "execution_count": null,
   "id": "bb846439-64f9-456c-81c5-b4b9fd49574c",
   "metadata": {},
   "outputs": [],
   "source": [
    "# multinomial - assessment 3, q2e\n",
    "# experiment with alternate approach\n",
    "\n",
    "X1 = Binomial('X1', 12, 0.4)\n",
    "X2 = Binomial('X2', 12, 0.2)\n",
    "X3 = Binomial('X3', 12, 0.1)\n",
    "X4 = Binomial('X4', 12, 0.3)\n",
    "\n",
    "# all three methods produce the same result, but all incorrect\n",
    "density(Eq(X1, 4), Eq(X1+X2+X3+X4, 12))\n",
    "P(Eq(X1, 4), Eq(X1+X2+X3+X4, 12))\n",
    "P(Eq(X2+X3+X4, 8), Eq(X1+X2+X3+X4, 12))"
   ]
  },
  {
   "cell_type": "code",
   "execution_count": null,
   "id": "2477b493-3605-4a2f-ab05-0093954508f3",
   "metadata": {},
   "outputs": [],
   "source": [
    "# create MGF for custom dist\n",
    "\n",
    "from sympy.stats import E\n",
    "\n",
    "x = Symbol('x', positive=True)\n",
    "t = Symbol('t', positive=True)\n",
    "b = Symbol('beta', positive=True)\n",
    "\n",
    "pdf = (1/b)*exp(-x/b)\n",
    "\n",
    "X = ContinuousRV(x, pdf, set=Interval(0, oo))\n",
    "MGF = simplify(E(exp(t*X),conds='none'))"
   ]
  }
 ],
 "metadata": {
  "kernelspec": {
   "display_name": "Python 3 (ipykernel)",
   "language": "python",
   "name": "python3"
  },
  "language_info": {
   "codemirror_mode": {
    "name": "ipython",
    "version": 3
   },
   "file_extension": ".py",
   "mimetype": "text/x-python",
   "name": "python",
   "nbconvert_exporter": "python",
   "pygments_lexer": "ipython3",
   "version": "3.10.4"
  }
 },
 "nbformat": 4,
 "nbformat_minor": 5
}
